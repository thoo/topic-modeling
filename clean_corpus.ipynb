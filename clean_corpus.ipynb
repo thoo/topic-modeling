{
 "cells": [
  {
   "cell_type": "markdown",
   "metadata": {},
   "source": [
    "## Language Processing Library ( spaCy)"
   ]
  },
  {
   "cell_type": "code",
   "execution_count": 9,
   "metadata": {},
   "outputs": [],
   "source": [
    "from spacy.lang.en.stop_words import STOP_WORDS\n",
    "import spacy\n",
    "from spacy.lemmatizer import Lemmatizer\n",
    "from spacy.lang.en import English\n",
    "nlp=spacy.load('en_core_web_lg')\n",
    "import re"
   ]
  },
  {
   "cell_type": "markdown",
   "metadata": {},
   "source": [
    "## Libraries from Scikit-learns"
   ]
  },
  {
   "cell_type": "code",
   "execution_count": 2,
   "metadata": {},
   "outputs": [],
   "source": [
    "from sklearn.feature_extraction.text import TfidfVectorizer, CountVectorizer\n",
    "from sklearn.decomposition import NMF, LatentDirichletAllocation\n",
    "from sklearn.datasets import fetch_20newsgroups\n",
    "from time import time"
   ]
  },
  {
   "cell_type": "code",
   "execution_count": 24,
   "metadata": {},
   "outputs": [],
   "source": [
    "import numpy as np\n",
    "import string\n",
    "import regex as re\n"
   ]
  },
  {
   "cell_type": "code",
   "execution_count": 45,
   "metadata": {},
   "outputs": [],
   "source": [
    "from save_load import save_obj, load_obj"
   ]
  },
  {
   "cell_type": "markdown",
   "metadata": {},
   "source": [
    "## Download dataset"
   ]
  },
  {
   "cell_type": "code",
   "execution_count": 3,
   "metadata": {},
   "outputs": [],
   "source": [
    "dataset = fetch_20newsgroups(shuffle=True, \n",
    "                             random_state=1, \n",
    "                             remove=('headers', 'footers', 'quotes'))"
   ]
  },
  {
   "cell_type": "code",
   "execution_count": 5,
   "metadata": {},
   "outputs": [
    {
     "data": {
      "text/plain": [
       "list"
      ]
     },
     "execution_count": 5,
     "metadata": {},
     "output_type": "execute_result"
    }
   ],
   "source": [
    "data_samples = dataset.data\n",
    "type(data_samples)"
   ]
  },
  {
   "cell_type": "code",
   "execution_count": 6,
   "metadata": {},
   "outputs": [
    {
     "data": {
      "text/plain": [
       "11314"
      ]
     },
     "execution_count": 6,
     "metadata": {},
     "output_type": "execute_result"
    }
   ],
   "source": [
    "len(data_samples)"
   ]
  },
  {
   "cell_type": "code",
   "execution_count": 7,
   "metadata": {},
   "outputs": [
    {
     "data": {
      "text/plain": [
       "\"Well i'm not sure about the story nad it did seem biased. What\\nI disagree with is your statement that the U.S. Media is out to\\nruin Israels reputation. That is rediculous. The U.S. media is\\nthe most pro-israeli media in the world. Having lived in Europe\\nI realize that incidences such as the one described in the\\nletter have occured. The U.S. media as a whole seem to try to\\nignore them. The U.S. is subsidizing Israels existance and the\\nEuropeans are not (at least not to the same degree). So I think\\nthat might be a reason they report more clearly on the\\natrocities.\\n\\tWhat is a shame is that in Austria, daily reports of\\nthe inhuman acts commited by Israeli soldiers and the blessing\\nreceived from the Government makes some of the Holocaust guilt\\ngo away. After all, look how the Jews are treating other races\\nwhen they got power. It is unfortunate.\\n\""
      ]
     },
     "execution_count": 7,
     "metadata": {},
     "output_type": "execute_result"
    }
   ],
   "source": [
    "data_samples[0]"
   ]
  },
  {
   "cell_type": "markdown",
   "metadata": {},
   "source": [
    "## Render with spaCy natural language processing library"
   ]
  },
  {
   "cell_type": "code",
   "execution_count": 166,
   "metadata": {},
   "outputs": [],
   "source": [
    "#!python -m spacy download en_core_web_lg\n",
    "# !pip install pyldavis"
   ]
  },
  {
   "cell_type": "code",
   "execution_count": 257,
   "metadata": {},
   "outputs": [
    {
     "data": {
      "text/html": [
       "<div class=\"entities\" style=\"line-height: 2.5\">Notwithstanding all the legitimate fuss about this proposal, how much</br>of a change is it?  \n",
       "<mark class=\"entity\" style=\"background: #7aecec; padding: 0.45em 0.6em; margin: 0 0.25em; line-height: 1; border-radius: 0.35em; box-decoration-break: clone; -webkit-box-decoration-break: clone\">\n",
       "    ATT\n",
       "    <span style=\"font-size: 0.8em; font-weight: bold; line-height: 1; border-radius: 0.35em; text-transform: uppercase; vertical-align: middle; margin-left: 0.5rem\">ORG</span>\n",
       "</mark>\n",
       "'s last product in this area (a) was priced over</br>$\n",
       "<mark class=\"entity\" style=\"background: #e4e7d2; padding: 0.45em 0.6em; margin: 0 0.25em; line-height: 1; border-radius: 0.35em; box-decoration-break: clone; -webkit-box-decoration-break: clone\">\n",
       "    1000\n",
       "    <span style=\"font-size: 0.8em; font-weight: bold; line-height: 1; border-radius: 0.35em; text-transform: uppercase; vertical-align: middle; margin-left: 0.5rem\">MONEY</span>\n",
       "</mark>\n",
       ", as I suspect 'clipper' phones will be; (b) came to the customer </br>with the key automatically preregistered with government authorities. Thus,</br>aside from attempting to further legitimize and solidify the fed's posture,\n",
       "<mark class=\"entity\" style=\"background: #7aecec; padding: 0.45em 0.6em; margin: 0 0.25em; line-height: 1; border-radius: 0.35em; box-decoration-break: clone; -webkit-box-decoration-break: clone\">\n",
       "    \n",
       "Clipper\n",
       "    <span style=\"font-size: 0.8em; font-weight: bold; line-height: 1; border-radius: 0.35em; text-transform: uppercase; vertical-align: middle; margin-left: 0.5rem\">ORG</span>\n",
       "</mark>\n",
       " seems to be \"more of the same\", rather than a new direction.\n",
       "<mark class=\"entity\" style=\"background: #feca74; padding: 0.45em 0.6em; margin: 0 0.25em; line-height: 1; border-radius: 0.35em; box-decoration-break: clone; -webkit-box-decoration-break: clone\">\n",
       "    \n",
       "   \n",
       "    <span style=\"font-size: 0.8em; font-weight: bold; line-height: 1; border-radius: 0.35em; text-transform: uppercase; vertical-align: middle; margin-left: 0.5rem\">GPE</span>\n",
       "</mark>\n",
       "Yes, technology will eventually drive the cost down and thereby promote</br>more widespread use- but at present, the man on the street is not going</br>to purchase a $\n",
       "<mark class=\"entity\" style=\"background: #e4e7d2; padding: 0.45em 0.6em; margin: 0 0.25em; line-height: 1; border-radius: 0.35em; box-decoration-break: clone; -webkit-box-decoration-break: clone\">\n",
       "    1000\n",
       "    <span style=\"font-size: 0.8em; font-weight: bold; line-height: 1; border-radius: 0.35em; text-transform: uppercase; vertical-align: middle; margin-left: 0.5rem\">MONEY</span>\n",
       "</mark>\n",
       " crypto telephone, especially when the guy on the other</br>end probably doesn't have \n",
       "<mark class=\"entity\" style=\"background: #e4e7d2; padding: 0.45em 0.6em; margin: 0 0.25em; line-height: 1; border-radius: 0.35em; box-decoration-break: clone; -webkit-box-decoration-break: clone\">\n",
       "    one\n",
       "    <span style=\"font-size: 0.8em; font-weight: bold; line-height: 1; border-radius: 0.35em; text-transform: uppercase; vertical-align: middle; margin-left: 0.5rem\">CARDINAL</span>\n",
       "</mark>\n",
       " anyway.  Am I missing something?</br>   The real question is what the gov will do in \n",
       "<mark class=\"entity\" style=\"background: #bfe1d9; padding: 0.45em 0.6em; margin: 0 0.25em; line-height: 1; border-radius: 0.35em; box-decoration-break: clone; -webkit-box-decoration-break: clone\">\n",
       "    a year\n",
       "    <span style=\"font-size: 0.8em; font-weight: bold; line-height: 1; border-radius: 0.35em; text-transform: uppercase; vertical-align: middle; margin-left: 0.5rem\">DATE</span>\n",
       "</mark>\n",
       " or \n",
       "<mark class=\"entity\" style=\"background: #e4e7d2; padding: 0.45em 0.6em; margin: 0 0.25em; line-height: 1; border-radius: 0.35em; box-decoration-break: clone; -webkit-box-decoration-break: clone\">\n",
       "    two\n",
       "    <span style=\"font-size: 0.8em; font-weight: bold; line-height: 1; border-radius: 0.35em; text-transform: uppercase; vertical-align: middle; margin-left: 0.5rem\">CARDINAL</span>\n",
       "</mark>\n",
       " when air-</br>tight voice privacy on a phone line is as close as your nearest pc.  That</br>has got to a problematic scenario for them, even if the extent of usage\n",
       "<mark class=\"entity\" style=\"background: #aa9cfc; padding: 0.45em 0.6em; margin: 0 0.25em; line-height: 1; border-radius: 0.35em; box-decoration-break: clone; -webkit-box-decoration-break: clone\">\n",
       "    \n",
       "\n",
       "    <span style=\"font-size: 0.8em; font-weight: bold; line-height: 1; border-radius: 0.35em; text-transform: uppercase; vertical-align: middle; margin-left: 0.5rem\">PERSON</span>\n",
       "</mark>\n",
       "never surpasses the 'underground' stature of \n",
       "<mark class=\"entity\" style=\"background: #7aecec; padding: 0.45em 0.6em; margin: 0 0.25em; line-height: 1; border-radius: 0.35em; box-decoration-break: clone; -webkit-box-decoration-break: clone\">\n",
       "    PGP\n",
       "    <span style=\"font-size: 0.8em; font-weight: bold; line-height: 1; border-radius: 0.35em; text-transform: uppercase; vertical-align: middle; margin-left: 0.5rem\">ORG</span>\n",
       "</mark>\n",
       ".</div>"
      ],
      "text/plain": [
       "<IPython.core.display.HTML object>"
      ]
     },
     "metadata": {},
     "output_type": "display_data"
    }
   ],
   "source": [
    "spacy.displacy.render(nlp(data_samples[3]), style='ent',jupyter=True)"
   ]
  },
  {
   "cell_type": "code",
   "execution_count": 120,
   "metadata": {},
   "outputs": [
    {
     "name": "stdout",
     "output_type": "stream",
     "text": [
      "Well well\n",
      "i -PRON-\n",
      "'m be\n",
      "not not\n",
      "sure sure\n",
      "about about\n",
      "the the\n",
      "story story\n",
      "nad nad\n",
      "it -PRON-\n"
     ]
    }
   ],
   "source": [
    "for token in nlp(data_samples[0])[:10]:\n",
    "    print(token,token.lemma_)"
   ]
  },
  {
   "cell_type": "code",
   "execution_count": 19,
   "metadata": {},
   "outputs": [],
   "source": [
    "STOPS = set(string.punctuation) | STOP_WORDS"
   ]
  },
  {
   "cell_type": "markdown",
   "metadata": {},
   "source": [
    "## Strip Punctuation and Stop Words"
   ]
  },
  {
   "cell_type": "code",
   "execution_count": 96,
   "metadata": {},
   "outputs": [
    {
     "data": {
      "text/plain": [
       "'this for five test'"
      ]
     },
     "execution_count": 96,
     "metadata": {},
     "output_type": "execute_result"
    }
   ],
   "source": [
    "' '.join(re.findall('[a-zA-Z]+','this 3for five5 test! 45'))"
   ]
  },
  {
   "cell_type": "code",
   "execution_count": 112,
   "metadata": {},
   "outputs": [],
   "source": [
    "def spacy_tokenizer(corpus):\n",
    "    \n",
    "    corpus = re.sub(r'[^\\w\\s]', '', corpus)  # Remove punctuation\n",
    "    corpus = ' '.join(re.findall('[a-zA-Z]+', corpus))  # Remove digit.\n",
    "#     corpus = re.sub(r'\\n',' ',corpus)\n",
    "\n",
    "    doc = nlp(corpus)\n",
    "    \n",
    "    doc_list = []\n",
    "    for token in doc:\n",
    "        if token.lemma_ != \"-PRON-\":\n",
    "            word = token.lemma_.rstrip()\n",
    "            # Remove stopwords, Nonetype and select word-length between 2 and 20.\n",
    "            if word not in STOPS and word and 2< len(word) < 20:  \n",
    "                doc_list.append(word)\n",
    "                \n",
    "    \n",
    "    return doc_list"
   ]
  },
  {
   "cell_type": "code",
   "execution_count": 113,
   "metadata": {},
   "outputs": [
    {
     "name": "stdout",
     "output_type": "stream",
     "text": [
      "Building Time : 8.18 mins\n"
     ]
    }
   ],
   "source": [
    "t = time()\n",
    "doc_list = np.array([ spacy_tokenizer(corpus) for corpus in data_samples])\n",
    "print('Building Time : {:.2f} mins'.format((time() - t) / 60))"
   ]
  },
  {
   "cell_type": "code",
   "execution_count": 114,
   "metadata": {},
   "outputs": [
    {
     "data": {
      "text/plain": [
       "array([list(['sure', 'story', 'nad', 'biased', 'disagree', 'statement', 'media', 'ruin', 'israels', 'reputation', 'rediculous', 'media', 'proisraeli', 'medium', 'world', 'live', 'europe', 'realize', 'incidence', 'describe', 'letter', 'occur', 'medium', 'try', 'ignore', 'subsidize', 'israels', 'existance', 'europeans', 'degree', 'think', 'reason', 'report', 'clearly', 'atrocity', 'shame', 'austria', 'daily', 'report', 'inhuman', 'act', 'commit', 'israeli', 'soldier', 'blessing', 'receive', 'government', 'holocaust', 'guilt', 'away', 'look', 'jews', 'treat', 'race', 'power', 'unfortunate']),\n",
       "       list(['yeah', 'expect', 'people', 'read', 'faq', 'etc', 'actually', 'accept', 'hard', 'atheism', 'need', 'little', 'leap', 'faith', 'jimmy', 'logic', 'run', 'steam', 'jim', 'sorry', 'pity', 'jim', 'sorry', 'feeling', 'denial', 'faith', 'need', 'pretend', 'end', 'happily', 'maybe', 'start', 'new', 'newsgroup', 'altatheisthard', 'bummin', 'byebye', 'big', 'jim', 'forget', 'flintstones', 'chewables', 'bake', 'timmons', 'iii']),\n",
       "       list(['realize', 'principle', 'strong', 'point', 'like', 'know', 'ask', 'question', 'sort', 'arab', 'country', 'want', 'continue', 'think', 'tank', 'charade', 'fixation', 'israel', 'stop', 'start', 'ask', 'sort', 'question', 'arab', 'country', 'realize', 'work', 'arab', 'country', 'treatment', 'jews', 'decade', 'bad', 'fixation', 'israel', 'begin', 'look', 'like', 'biased', 'attack', 'group', 'recognize', 'stupid', 'center', 'policy', 'research', 'fancy', 'bigot', 'hat', 'israel'])],\n",
       "      dtype=object)"
      ]
     },
     "execution_count": 114,
     "metadata": {},
     "output_type": "execute_result"
    }
   ],
   "source": [
    "doc_list[:3]"
   ]
  },
  {
   "cell_type": "markdown",
   "metadata": {},
   "source": [
    "## Save To Pickle File"
   ]
  },
  {
   "cell_type": "code",
   "execution_count": 115,
   "metadata": {},
   "outputs": [],
   "source": [
    "# Save to pickle object\n",
    "save_obj(doc_list,'doc_list')"
   ]
  },
  {
   "cell_type": "code",
   "execution_count": 116,
   "metadata": {},
   "outputs": [
    {
     "name": "stdout",
     "output_type": "stream",
     "text": [
      "Building Time : 0.00 mins\n"
     ]
    }
   ],
   "source": [
    "t = time()\n",
    "mod_doc = [ ' '.join(alist) for alist in doc_list]\n",
    "print('Building Time : {:.2f} mins'.format((time() - t) / 60))"
   ]
  },
  {
   "cell_type": "code",
   "execution_count": 117,
   "metadata": {},
   "outputs": [],
   "source": [
    "# Save as a list of list\n",
    "save_obj(mod_doc,'mod_doc')"
   ]
  },
  {
   "cell_type": "code",
   "execution_count": 52,
   "metadata": {},
   "outputs": [
    {
     "data": {
      "text/plain": [
       "['sure',\n",
       " 'story',\n",
       " 'nad',\n",
       " 'biased',\n",
       " 'disagree',\n",
       " 'statement',\n",
       " 'media',\n",
       " 'ruin',\n",
       " 'israels',\n",
       " 'reputation',\n",
       " 'rediculous',\n",
       " 'media',\n",
       " 'proisraeli',\n",
       " 'medium',\n",
       " 'world',\n",
       " 'live',\n",
       " 'europe',\n",
       " 'realize',\n",
       " 'incidence',\n",
       " 'describe',\n",
       " 'letter',\n",
       " 'occur',\n",
       " 'medium',\n",
       " 'try',\n",
       " 'ignore',\n",
       " 'subsidize',\n",
       " 'israels',\n",
       " 'existance',\n",
       " 'europeans',\n",
       " 'degree',\n",
       " 'think',\n",
       " 'reason',\n",
       " 'report',\n",
       " 'clearly',\n",
       " 'atrocity',\n",
       " 'shame',\n",
       " 'austria',\n",
       " 'daily',\n",
       " 'report',\n",
       " 'inhuman',\n",
       " 'act',\n",
       " 'commit',\n",
       " 'israeli',\n",
       " 'soldier',\n",
       " 'blessing',\n",
       " 'receive',\n",
       " 'government',\n",
       " 'holocaust',\n",
       " 'guilt',\n",
       " 'away',\n",
       " 'look',\n",
       " 'jews',\n",
       " 'treat',\n",
       " 'race',\n",
       " 'power',\n",
       " 'unfortunate']"
      ]
     },
     "execution_count": 52,
     "metadata": {},
     "output_type": "execute_result"
    }
   ],
   "source": [
    "doc_list[0]"
   ]
  },
  {
   "cell_type": "code",
   "execution_count": 53,
   "metadata": {},
   "outputs": [
    {
     "name": "stdout",
     "output_type": "stream",
     "text": [
      "total 7156488\n",
      "-rw-r--r--  1 thein  staff     5B Feb 22 16:13 a.pkl\n",
      "-rw-r--r--  1 thein  staff   320B Feb 24 22:21 coherence_vals.pkl\n",
      "-rw-r--r--  1 thein  staff    16M Feb 23 21:46 doc_list.pkl\n",
      "-rw-r--r--  1 thein  staff   1.0M Feb 23 00:54 lda_gensim.pkl\n",
      "-rw-r--r--  1 thein  staff   2.5G Feb 22 15:54 mod_doc.pkl\n",
      "-rw-r--r--  1 thein  staff   217M Feb 24 22:21 models.pkl\n",
      "-rw-r--r--  1 thein  staff     0B Feb 22 15:48 obj.pkl\n",
      "-rw-r--r--  1 thein  staff    24M Feb 23 17:52 word2vec.pkl\n",
      "-rw-r--r--  1 thein  staff    79M Feb 23 17:57 word2vec_1000.pkl\n",
      "-rw-r--r--  1 thein  staff   158M Feb 23 18:01 word2vec_2000.pkl\n",
      "-rw-r--r--  1 thein  staff   393M Feb 23 18:06 word2vec_5000.pkl\n"
     ]
    }
   ],
   "source": [
    "!ls -lh data/"
   ]
  }
 ],
 "metadata": {
  "kernelspec": {
   "display_name": "Python 3",
   "language": "python",
   "name": "python3"
  },
  "language_info": {
   "codemirror_mode": {
    "name": "ipython",
    "version": 3
   },
   "file_extension": ".py",
   "mimetype": "text/x-python",
   "name": "python",
   "nbconvert_exporter": "python",
   "pygments_lexer": "ipython3",
   "version": "3.6.7"
  }
 },
 "nbformat": 4,
 "nbformat_minor": 2
}
