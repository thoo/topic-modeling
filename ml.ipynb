{
 "cells": [
  {
   "cell_type": "code",
   "execution_count": 164,
   "metadata": {
    "ExecuteTime": {
     "end_time": "2018-09-20T06:26:52.325025Z",
     "start_time": "2018-09-20T06:26:52.316744Z"
    }
   },
   "outputs": [],
   "source": [
    "%matplotlib inline\n",
    "import matplotlib\n",
    "import seaborn as sns\n",
    "import pandas as pd\n",
    "sns.set()\n",
    "from sklearn.feature_extraction import text\n",
    "from sklearn import linear_model\n",
    "from sklearn.svm import SVR\n",
    "matplotlib.rcParams['figure.dpi'] = 144\n",
    "from sklearn import base\n",
    "import numpy as np\n",
    "from sklearn.feature_extraction import text\n",
    "from sklearn.svm import SVR"
   ]
  },
  {
   "cell_type": "code",
   "execution_count": 2,
   "metadata": {
    "ExecuteTime": {
     "end_time": "2018-09-20T04:00:14.265076Z",
     "start_time": "2018-09-20T04:00:14.130831Z"
    }
   },
   "outputs": [],
   "source": [
    "from static_grader import grader"
   ]
  },
  {
   "cell_type": "code",
   "execution_count": 3,
   "metadata": {
    "ExecuteTime": {
     "end_time": "2018-09-20T04:00:24.904400Z",
     "start_time": "2018-09-20T04:00:24.001139Z"
    }
   },
   "outputs": [],
   "source": [
    "!aws s3 sync s3://dataincubator-course/mldata/ . --exclude '*' --include 'yelp_train_academic_dataset_business.json.gz'"
   ]
  },
  {
   "cell_type": "code",
   "execution_count": 4,
   "metadata": {
    "ExecuteTime": {
     "end_time": "2018-09-20T04:00:28.861567Z",
     "start_time": "2018-09-20T04:00:27.723167Z"
    }
   },
   "outputs": [],
   "source": [
    "import ujson as json\n",
    "import gzip\n",
    "\n",
    "with gzip.open('yelp_train_academic_dataset_business.json.gz') as f:\n",
    "    data = [json.loads(line) for line in f]"
   ]
  },
  {
   "cell_type": "code",
   "execution_count": 5,
   "metadata": {
    "ExecuteTime": {
     "end_time": "2018-09-20T04:00:37.532525Z",
     "start_time": "2018-09-20T04:00:37.512355Z"
    }
   },
   "outputs": [],
   "source": [
    "star_ratings = [row['stars'] for row in data]"
   ]
  },
  {
   "cell_type": "code",
   "execution_count": 6,
   "metadata": {
    "ExecuteTime": {
     "end_time": "2018-09-20T04:00:39.394901Z",
     "start_time": "2018-09-20T04:00:39.163143Z"
    }
   },
   "outputs": [],
   "source": [
    "df=pd.DataFrame.from_dict(data)"
   ]
  },
  {
   "cell_type": "markdown",
   "metadata": {},
   "source": [
    "For many of the questions below, you will need to build and train an estimator that predicts the star rating given certain features.  This could be a custom estimator that you built from scratch, but in most cases will be a pipeline containing custom or pre-built transformers and an existing estimator.  We will give you hints of how to proceed, but the only requirement for you is to produce a model that does as well, or better, than the reference models we created.  You are welcome to do this however you like. The details are up to you.\n",
    "\n",
    "The formats of the input and output to the `fit()` and `predict()` methods are ultimately up to you as well, but we recommend that you deal with lists or arrays, for consistency with the rest of Scikit Learn.  It is also a good idea to take the same type of data for the feature matrix in both `fit()` and `predict()`.  While it is tempting to read the stars from the feature matrix X, you should get in the habit of passing the labels as a separate argument to the `fit()` method.\n",
    "\n",
    "You may find it useful to serialize the trained models to disk.  This will allow to reload it after restarting the Jupyter notebook, without needing to retrain it.  We recommend using the [`dill` library](https://pypi.python.org/pypi/dill) for this (although the [`joblib` library](http://scikit-learn.org/stable/modules/model_persistence.html) also works).  Use\n",
    "```python\n",
    "dill.dump(estimator, open('estimator.dill', 'w'))\n",
    "```\n",
    "to serialize the object `estimator` to the file `estimator.dill`.  If you have trouble with this, try setting the `recurse=True` keyword arguments in the call of `dill.dump()`.  The estimator can be deserialized by calling\n",
    "```python\n",
    "estimator = dill.load(open('estimator.dill', 'r'))\n",
    "```"
   ]
  },
  {
   "cell_type": "markdown",
   "metadata": {},
   "source": [
    "# Questions\n"
   ]
  },
  {
   "cell_type": "markdown",
   "metadata": {},
   "source": [
    "Each of the \"model\" questions asks you to create a function that models the number of stars venues will receive.  It will be passed a list of dictionaries.  Each of these will have the same format as the JSON objects you've just read in.  Some of the keys (like the stars!) will have been removed.  This function should return a list of numbers of the same length, indicating the predicted star ratings.\n",
    "\n",
    "This function is passed to the `score()` function, which will receive input from the grader, run your function with that input, report the results back to the grader, and print out the score the grader returned.  Depending on how you constructed your estimator, you may be able to pass the predict method directly to the `score()` function.  If not, you will need to write a small wrapper function to mediate the data types.\n"
   ]
  },
  {
   "cell_type": "markdown",
   "metadata": {},
   "source": [
    "## city_avg"
   ]
  },
  {
   "cell_type": "markdown",
   "metadata": {},
   "source": [
    "The venues belong to different cities.  You can image that the ratings in some cities are probably higher than others.  We wish to build an estimator to make a prediction based on this, but first we need to work out the average rating for each city.  For this problem, create a list of tuples (city name, star rating), one for each city in the data set.\n",
    "\n",
    "There are many ways to do this; please feel free to experiment on your own.  If you get stuck, the steps below attempt to guide you through the process.\n",
    "\n",
    "A simple approach is to go through all of the dictionaries in our array, calculating the sum of the star ratings and the number of venues for each city.  At the end, we can just divide the stars by the count to get the average.\n",
    "\n",
    "We could create a separate sum and count variable for each city, but that will get tedious quickly.  A better approach to to create a dictionary for each.  The key will be the city name, and the value the running sum or running count.\n",
    "\n",
    "One slight annoyance of this approach is that we will have to test whether a key exists in the dictionary before adding to the running tally.  The collections module's `defaultdict` class works around this by providing default values for keys that haven't been used.  Thus, if we do"
   ]
  },
  {
   "cell_type": "code",
   "execution_count": 7,
   "metadata": {
    "ExecuteTime": {
     "end_time": "2018-09-20T04:01:20.068406Z",
     "start_time": "2018-09-20T04:01:20.065047Z"
    }
   },
   "outputs": [],
   "source": [
    "from collections import defaultdict\n",
    "star_sum = defaultdict(int)\n",
    "count = defaultdict(int)"
   ]
  },
  {
   "cell_type": "markdown",
   "metadata": {},
   "source": [
    "we can increment any key of `stars` or `count` without first worrying whether the key exists.  We need to go through the `data` and `star_ratings` list together, which we can do with the `zip()` function."
   ]
  },
  {
   "cell_type": "code",
   "execution_count": 8,
   "metadata": {
    "ExecuteTime": {
     "end_time": "2018-09-20T04:01:30.497260Z",
     "start_time": "2018-09-20T04:01:30.475971Z"
    }
   },
   "outputs": [
    {
     "data": {
      "text/html": [
       "<div>\n",
       "<style scoped>\n",
       "    .dataframe tbody tr th:only-of-type {\n",
       "        vertical-align: middle;\n",
       "    }\n",
       "\n",
       "    .dataframe tbody tr th {\n",
       "        vertical-align: top;\n",
       "    }\n",
       "\n",
       "    .dataframe thead th {\n",
       "        text-align: right;\n",
       "    }\n",
       "</style>\n",
       "<table border=\"1\" class=\"dataframe\">\n",
       "  <thead>\n",
       "    <tr style=\"text-align: right;\">\n",
       "      <th></th>\n",
       "      <th>city</th>\n",
       "      <th>stars</th>\n",
       "    </tr>\n",
       "  </thead>\n",
       "  <tbody>\n",
       "    <tr>\n",
       "      <th>0</th>\n",
       "      <td>Phoenix</td>\n",
       "      <td>3.5</td>\n",
       "    </tr>\n",
       "    <tr>\n",
       "      <th>1</th>\n",
       "      <td>De Forest</td>\n",
       "      <td>4.0</td>\n",
       "    </tr>\n",
       "    <tr>\n",
       "      <th>2</th>\n",
       "      <td>De Forest</td>\n",
       "      <td>4.0</td>\n",
       "    </tr>\n",
       "    <tr>\n",
       "      <th>3</th>\n",
       "      <td>De Forest</td>\n",
       "      <td>4.5</td>\n",
       "    </tr>\n",
       "    <tr>\n",
       "      <th>4</th>\n",
       "      <td>De Forest</td>\n",
       "      <td>4.0</td>\n",
       "    </tr>\n",
       "  </tbody>\n",
       "</table>\n",
       "</div>"
      ],
      "text/plain": [
       "        city  stars\n",
       "0    Phoenix    3.5\n",
       "1  De Forest    4.0\n",
       "2  De Forest    4.0\n",
       "3  De Forest    4.5\n",
       "4  De Forest    4.0"
      ]
     },
     "execution_count": 8,
     "metadata": {},
     "output_type": "execute_result"
    }
   ],
   "source": [
    "df[['city','stars']].head()"
   ]
  },
  {
   "cell_type": "code",
   "execution_count": 9,
   "metadata": {
    "ExecuteTime": {
     "end_time": "2018-09-20T04:01:32.630084Z",
     "start_time": "2018-09-20T04:01:32.615359Z"
    }
   },
   "outputs": [],
   "source": [
    "avg_df=df[['city','stars']].groupby('city')['stars'].mean().reset_index()"
   ]
  },
  {
   "cell_type": "code",
   "execution_count": 10,
   "metadata": {
    "ExecuteTime": {
     "end_time": "2018-09-20T04:01:33.620484Z",
     "start_time": "2018-09-20T04:01:33.615440Z"
    }
   },
   "outputs": [
    {
     "data": {
      "text/plain": [
       "3.712759336095808"
      ]
     },
     "execution_count": 10,
     "metadata": {},
     "output_type": "execute_result"
    }
   ],
   "source": [
    "avg_df.stars.mean()"
   ]
  },
  {
   "cell_type": "code",
   "execution_count": 11,
   "metadata": {
    "ExecuteTime": {
     "end_time": "2018-09-20T04:01:35.898567Z",
     "start_time": "2018-09-20T04:01:35.889013Z"
    }
   },
   "outputs": [
    {
     "data": {
      "text/plain": [
       "{'Ahwatukee': 3.6875,\n",
       " 'Anthem': 3.7818181818181817,\n",
       " 'Apache Junction': 3.6375,\n",
       " 'Arcadia': 5.0,\n",
       " 'Atlanta': 3.5,\n",
       " 'Avondale': 3.53862660944206,\n",
       " 'Black Canyon City': 3.0,\n",
       " 'Bonnyrigg': 3.75,\n",
       " 'Boulder City': 4.136363636363637,\n",
       " 'Buckeye': 3.408450704225352,\n",
       " 'C Las Vegas': 3.0,\n",
       " 'Cambridge': 4.2,\n",
       " 'Carefree': 3.888888888888889,\n",
       " 'Casa Grande': 3.5172413793103448,\n",
       " 'Cave Creek': 3.9122137404580153,\n",
       " 'Centennial Hills': 3.0,\n",
       " 'Central City Village': 3.125,\n",
       " 'Central Henderson': 3.5,\n",
       " 'Chandler': 3.667574931880109,\n",
       " 'Chandler-Gilbert': 5.0,\n",
       " 'City of Edinburgh': 3.0,\n",
       " 'Clark County': 3.0,\n",
       " 'Coolidge': 3.4375,\n",
       " 'Cottage Grove': 3.2222222222222223,\n",
       " 'Cramond': 4.25,\n",
       " 'Dalkeith': 4.333333333333333,\n",
       " 'Dane': 4.25,\n",
       " 'De Forest': 3.75,\n",
       " 'DeForest': 4.1,\n",
       " 'Deforest': 5.0,\n",
       " 'Eagan': 5.0,\n",
       " 'Edinburgh': 3.7963391136801543,\n",
       " 'El Mirage': 3.7,\n",
       " 'Enterprise': 3.2222222222222223,\n",
       " 'Fitchburg': 3.4634146341463414,\n",
       " 'Florence': 3.6176470588235294,\n",
       " 'Fort Kinnaird': 4.5,\n",
       " 'Fort McDowell': 3.357142857142857,\n",
       " 'Fort Mcdowell': 4.0,\n",
       " 'Fountain Hills': 3.7904761904761903,\n",
       " 'Fountain Hls': 3.0,\n",
       " 'Gila Bend': 3.375,\n",
       " 'Gilbert': 3.752396166134185,\n",
       " 'Glendale': 3.607404021937843,\n",
       " 'Glendale Az': 4.0,\n",
       " 'Gold Canyon': 3.5,\n",
       " 'Goldfield': 3.5,\n",
       " 'Goodyear': 3.5313653136531364,\n",
       " 'Green Valley': 4.0,\n",
       " 'Guadalupe': 4.0,\n",
       " 'Heidelberg': 2.5,\n",
       " 'Henderson': 3.6879310344827587,\n",
       " 'Henderson ': 4.0,\n",
       " 'Henderson (Green  Valley)': 4.0,\n",
       " 'Henderson (Stephanie)': 4.0,\n",
       " 'Henderson and Las vegas': 4.0,\n",
       " 'Higley': 3.5,\n",
       " 'Inverkeithing': 3.0,\n",
       " 'Juniper Green': 3.8333333333333335,\n",
       " 'Kitchener': 3.6982758620689653,\n",
       " 'Lake Las Vegas': 4.5,\n",
       " 'Las Vegas': 3.651368537461985,\n",
       " 'Las Vegas ': 3.6,\n",
       " 'Las Vegas East': 4.5,\n",
       " 'Las Vegas, NV 89147': 2.5,\n",
       " 'Lasswade': 3.3333333333333335,\n",
       " 'Laveen': 3.3392857142857144,\n",
       " 'Leith': 4.0,\n",
       " 'Litchfield Park': 3.7,\n",
       " 'Litchfield Park ': 4.5,\n",
       " 'Loanhead': 3.8,\n",
       " 'London': 3.0,\n",
       " 'Madison': 3.6457337883959045,\n",
       " 'Maricopa': 3.52,\n",
       " 'Mc Farland': 3.1,\n",
       " 'McFarland': 4.4,\n",
       " 'Mcfarland': 3.5,\n",
       " 'Mesa': 3.5901461829994585,\n",
       " 'Mesa ': 3.0,\n",
       " 'Middleton': 3.611111111111111,\n",
       " 'Midlothian': 4.5,\n",
       " 'Monona': 3.4727272727272727,\n",
       " 'Morristown': 3.5,\n",
       " 'Musselburgh': 3.55,\n",
       " 'N E Las Vegas': 5.0,\n",
       " 'N Las Vegas': 3.5625,\n",
       " 'N W Las Vegas': 3.5,\n",
       " 'N. Las Vegas': 3.25,\n",
       " 'NELLIS AFB': 4.5,\n",
       " 'Nellis AFB': 4.222222222222222,\n",
       " 'Nellis Afb': 3.25,\n",
       " 'Nellis Air Force Base': 3.0,\n",
       " 'New River': 3.5833333333333335,\n",
       " 'New Town': 3.6666666666666665,\n",
       " 'New York': 5.0,\n",
       " 'Newberry Springs': 3.5,\n",
       " 'Newbridge': 4.5,\n",
       " 'Newington': 3.0,\n",
       " 'North Las Vegas': 3.4460043196544277,\n",
       " 'North Las Vegas ': 3.5,\n",
       " 'North Queensferry': 3.5,\n",
       " 'North Scottsdale': 4.0,\n",
       " 'Old Town': 4.0,\n",
       " 'Paradise': 3.46875,\n",
       " 'Paradise Valley': 3.6690140845070425,\n",
       " 'Penicuik': 4.0,\n",
       " 'Peoria': 3.6388367729831144,\n",
       " 'Pheonix': 3.0,\n",
       " 'Phoenix': 3.6702903946388683,\n",
       " 'Phoenix ': 1.0,\n",
       " 'Phoenix Sky Harbor Center': 3.5,\n",
       " 'Portobello': 3.75,\n",
       " 'Queen Creek': 3.6456043956043955,\n",
       " 'Queensferry': 3.8333333333333335,\n",
       " 'Ratho': 3.0,\n",
       " 'Rio Verde': 4.0,\n",
       " 'Rochester': 5.0,\n",
       " 'Roslin': 4.5,\n",
       " 'Saguaro Lake': 3.0,\n",
       " 'San Tan Valley': 3.870967741935484,\n",
       " 'Scotland': 3.5,\n",
       " 'Scottsdale': 3.8206757594544327,\n",
       " 'Scottsdale, Phoenix, Chandler, Gilbert': 5.0,\n",
       " 'Sedona': 3.5,\n",
       " 'South Gyle': 2.5,\n",
       " 'South Las Vegas': 4.5,\n",
       " 'South Queensferry': 3.9,\n",
       " 'Spring Valley': 3.5,\n",
       " 'St Clements': 4.5,\n",
       " 'St Jacobs': 3.5,\n",
       " 'St. Jacobs': 4.5,\n",
       " 'Stanfield': 3.5,\n",
       " 'Stockbridge': 4.5,\n",
       " 'Stoughton': 3.75,\n",
       " 'Straiton': 2.5,\n",
       " 'Summerlin': 4.0,\n",
       " 'Summerlin South': 3.25,\n",
       " 'Sun City': 3.55,\n",
       " 'Sun City Anthem': 3.0,\n",
       " 'Sun City West': 3.625,\n",
       " 'Sun Lakes': 3.2222222222222223,\n",
       " 'Sun Prairie': 3.455223880597015,\n",
       " 'Sunrise': 3.0,\n",
       " 'Sunrise Manor': 3.0,\n",
       " 'Surprise': 3.5758426966292136,\n",
       " 'Surprise Crossing': 4.5,\n",
       " 'Tempe': 3.644621295279912,\n",
       " 'Tolleson': 3.2291666666666665,\n",
       " 'Tonopah': 3.75,\n",
       " 'Tonto Basin': 3.8333333333333335,\n",
       " 'Tortilla Flat': 4.166666666666667,\n",
       " 'Trempealeau': 4.0,\n",
       " 'Verona': 3.8548387096774195,\n",
       " 'Victoria Park': 4.5,\n",
       " 'W Henderson': 3.5,\n",
       " 'W Spring Valley': 3.0,\n",
       " 'W Summerlin': 3.5,\n",
       " 'Waddell': 3.8333333333333335,\n",
       " 'Water of Leith': 4.5,\n",
       " 'Waterloo': 3.6054421768707483,\n",
       " 'Waunakee': 3.3333333333333335,\n",
       " 'Whitney': 4.5,\n",
       " 'Wickenburg': 3.6555555555555554,\n",
       " 'Windsor': 3.5,\n",
       " 'Woolwich': 4.25,\n",
       " 'Youngtown': 3.857142857142857,\n",
       " 'chandler': 5.0}"
      ]
     },
     "execution_count": 11,
     "metadata": {},
     "output_type": "execute_result"
    }
   ],
   "source": [
    "avg_df.set_index('city').T.to_dict('records')[0]"
   ]
  },
  {
   "cell_type": "code",
   "execution_count": 12,
   "metadata": {
    "ExecuteTime": {
     "end_time": "2018-09-20T04:01:42.402279Z",
     "start_time": "2018-09-20T04:01:42.398151Z"
    }
   },
   "outputs": [],
   "source": [
    "avg_stars=list(avg_df.itertuples(index=False,name=None))"
   ]
  },
  {
   "cell_type": "code",
   "execution_count": 13,
   "metadata": {
    "ExecuteTime": {
     "end_time": "2018-09-20T04:01:43.055018Z",
     "start_time": "2018-09-20T04:01:43.051814Z"
    }
   },
   "outputs": [],
   "source": [
    "assert len(avg_stars) == 167"
   ]
  },
  {
   "cell_type": "markdown",
   "metadata": {},
   "source": [
    "We can get that list of tuples by converting the returned view object from the `.items()` method into a list."
   ]
  },
  {
   "cell_type": "code",
   "execution_count": 14,
   "metadata": {
    "ExecuteTime": {
     "end_time": "2018-09-20T04:01:48.719538Z",
     "start_time": "2018-09-20T04:01:48.065250Z"
    }
   },
   "outputs": [
    {
     "name": "stdout",
     "output_type": "stream",
     "text": [
      "==================\n",
      "Your score:  1.0\n",
      "==================\n"
     ]
    }
   ],
   "source": [
    "grader.score('ml__city_avg', lambda: avg_stars)"
   ]
  },
  {
   "cell_type": "code",
   "execution_count": null,
   "metadata": {},
   "outputs": [],
   "source": [
    "#grader.score('ml__city_avg', lambda: list(avg_stars.items()))"
   ]
  },
  {
   "cell_type": "markdown",
   "metadata": {},
   "source": [
    "## city_model"
   ]
  },
  {
   "cell_type": "markdown",
   "metadata": {},
   "source": [
    "Now, let's build a custom estimator that will make a prediction based solely on the city of a venue.  It is tempting to hard-code the answers from the previous section into this model, but we're going to resist and do things properly.\n",
    "\n",
    "This custom estimator will have a `.fit()` method.  It will receive `data` as its argument `X` and `star_ratings` as `y`, and should repeat the calculation of the previous problem there.  Then the `.predict()` method can look up the average rating for the city of each record it receives."
   ]
  },
  {
   "cell_type": "code",
   "execution_count": 68,
   "metadata": {
    "ExecuteTime": {
     "end_time": "2018-09-20T04:24:07.290403Z",
     "start_time": "2018-09-20T04:24:07.284466Z"
    }
   },
   "outputs": [],
   "source": [
    "\n",
    "class CityEstimator(base.BaseEstimator, base.RegressorMixin):\n",
    "    \n",
    "    def __init__(self):\n",
    "        self.avg_stars = dict()\n",
    "        self.avg_stars_df=pd.DataFrame()\n",
    "        self.total_avg=None\n",
    "    \n",
    "    def fit(self, X, y):\n",
    "        if not isinstance(X, pd.DataFrame):\n",
    "            X=pd.DataFrame(X)\n",
    "        self.avg_stars_df['city']=X.city \n",
    "        self.avg_stars_df['stars']=y \n",
    "        avg_df=self.avg_stars_df.groupby('city')['stars'].mean().reset_index()\n",
    "        self.avg_stars=avg_df.set_index('city').T.to_dict('records')[0]\n",
    "        self.total_avg=avg_df.stars.mean()\n",
    "        # Store the average rating per city in self.avg_stars\n",
    "        return self.avg_stars\n",
    "    \n",
    "    def predict(self, X):\n",
    "        if not isinstance(X, pd.DataFrame):\n",
    "            X=pd.DataFrame(X)\n",
    "        return [self.avg_stars[city] if city in self.avg_stars else self.total_avg for city in X['city'].values]    "
   ]
  },
  {
   "cell_type": "markdown",
   "metadata": {},
   "source": [
    "Now we can create an instance of our estimator and train it."
   ]
  },
  {
   "cell_type": "code",
   "execution_count": 70,
   "metadata": {
    "ExecuteTime": {
     "end_time": "2018-09-20T04:24:27.819865Z",
     "start_time": "2018-09-20T04:24:27.599268Z"
    }
   },
   "outputs": [
    {
     "data": {
      "text/plain": [
       "{'Ahwatukee': 3.6875,\n",
       " 'Anthem': 3.7818181818181817,\n",
       " 'Apache Junction': 3.6375,\n",
       " 'Arcadia': 5.0,\n",
       " 'Atlanta': 3.5,\n",
       " 'Avondale': 3.53862660944206,\n",
       " 'Black Canyon City': 3.0,\n",
       " 'Bonnyrigg': 3.75,\n",
       " 'Boulder City': 4.136363636363637,\n",
       " 'Buckeye': 3.408450704225352,\n",
       " 'C Las Vegas': 3.0,\n",
       " 'Cambridge': 4.2,\n",
       " 'Carefree': 3.888888888888889,\n",
       " 'Casa Grande': 3.5172413793103448,\n",
       " 'Cave Creek': 3.9122137404580153,\n",
       " 'Centennial Hills': 3.0,\n",
       " 'Central City Village': 3.125,\n",
       " 'Central Henderson': 3.5,\n",
       " 'Chandler': 3.667574931880109,\n",
       " 'Chandler-Gilbert': 5.0,\n",
       " 'City of Edinburgh': 3.0,\n",
       " 'Clark County': 3.0,\n",
       " 'Coolidge': 3.4375,\n",
       " 'Cottage Grove': 3.2222222222222223,\n",
       " 'Cramond': 4.25,\n",
       " 'Dalkeith': 4.333333333333333,\n",
       " 'Dane': 4.25,\n",
       " 'De Forest': 3.75,\n",
       " 'DeForest': 4.1,\n",
       " 'Deforest': 5.0,\n",
       " 'Eagan': 5.0,\n",
       " 'Edinburgh': 3.7963391136801543,\n",
       " 'El Mirage': 3.7,\n",
       " 'Enterprise': 3.2222222222222223,\n",
       " 'Fitchburg': 3.4634146341463414,\n",
       " 'Florence': 3.6176470588235294,\n",
       " 'Fort Kinnaird': 4.5,\n",
       " 'Fort McDowell': 3.357142857142857,\n",
       " 'Fort Mcdowell': 4.0,\n",
       " 'Fountain Hills': 3.7904761904761903,\n",
       " 'Fountain Hls': 3.0,\n",
       " 'Gila Bend': 3.375,\n",
       " 'Gilbert': 3.752396166134185,\n",
       " 'Glendale': 3.607404021937843,\n",
       " 'Glendale Az': 4.0,\n",
       " 'Gold Canyon': 3.5,\n",
       " 'Goldfield': 3.5,\n",
       " 'Goodyear': 3.5313653136531364,\n",
       " 'Green Valley': 4.0,\n",
       " 'Guadalupe': 4.0,\n",
       " 'Heidelberg': 2.5,\n",
       " 'Henderson': 3.6879310344827587,\n",
       " 'Henderson ': 4.0,\n",
       " 'Henderson (Green  Valley)': 4.0,\n",
       " 'Henderson (Stephanie)': 4.0,\n",
       " 'Henderson and Las vegas': 4.0,\n",
       " 'Higley': 3.5,\n",
       " 'Inverkeithing': 3.0,\n",
       " 'Juniper Green': 3.8333333333333335,\n",
       " 'Kitchener': 3.6982758620689653,\n",
       " 'Lake Las Vegas': 4.5,\n",
       " 'Las Vegas': 3.651368537461985,\n",
       " 'Las Vegas ': 3.6,\n",
       " 'Las Vegas East': 4.5,\n",
       " 'Las Vegas, NV 89147': 2.5,\n",
       " 'Lasswade': 3.3333333333333335,\n",
       " 'Laveen': 3.3392857142857144,\n",
       " 'Leith': 4.0,\n",
       " 'Litchfield Park': 3.7,\n",
       " 'Litchfield Park ': 4.5,\n",
       " 'Loanhead': 3.8,\n",
       " 'London': 3.0,\n",
       " 'Madison': 3.6457337883959045,\n",
       " 'Maricopa': 3.52,\n",
       " 'Mc Farland': 3.1,\n",
       " 'McFarland': 4.4,\n",
       " 'Mcfarland': 3.5,\n",
       " 'Mesa': 3.5901461829994585,\n",
       " 'Mesa ': 3.0,\n",
       " 'Middleton': 3.611111111111111,\n",
       " 'Midlothian': 4.5,\n",
       " 'Monona': 3.4727272727272727,\n",
       " 'Morristown': 3.5,\n",
       " 'Musselburgh': 3.55,\n",
       " 'N E Las Vegas': 5.0,\n",
       " 'N Las Vegas': 3.5625,\n",
       " 'N W Las Vegas': 3.5,\n",
       " 'N. Las Vegas': 3.25,\n",
       " 'NELLIS AFB': 4.5,\n",
       " 'Nellis AFB': 4.222222222222222,\n",
       " 'Nellis Afb': 3.25,\n",
       " 'Nellis Air Force Base': 3.0,\n",
       " 'New River': 3.5833333333333335,\n",
       " 'New Town': 3.6666666666666665,\n",
       " 'New York': 5.0,\n",
       " 'Newberry Springs': 3.5,\n",
       " 'Newbridge': 4.5,\n",
       " 'Newington': 3.0,\n",
       " 'North Las Vegas': 3.4460043196544277,\n",
       " 'North Las Vegas ': 3.5,\n",
       " 'North Queensferry': 3.5,\n",
       " 'North Scottsdale': 4.0,\n",
       " 'Old Town': 4.0,\n",
       " 'Paradise': 3.46875,\n",
       " 'Paradise Valley': 3.6690140845070425,\n",
       " 'Penicuik': 4.0,\n",
       " 'Peoria': 3.6388367729831144,\n",
       " 'Pheonix': 3.0,\n",
       " 'Phoenix': 3.6702903946388683,\n",
       " 'Phoenix ': 1.0,\n",
       " 'Phoenix Sky Harbor Center': 3.5,\n",
       " 'Portobello': 3.75,\n",
       " 'Queen Creek': 3.6456043956043955,\n",
       " 'Queensferry': 3.8333333333333335,\n",
       " 'Ratho': 3.0,\n",
       " 'Rio Verde': 4.0,\n",
       " 'Rochester': 5.0,\n",
       " 'Roslin': 4.5,\n",
       " 'Saguaro Lake': 3.0,\n",
       " 'San Tan Valley': 3.870967741935484,\n",
       " 'Scotland': 3.5,\n",
       " 'Scottsdale': 3.8206757594544327,\n",
       " 'Scottsdale, Phoenix, Chandler, Gilbert': 5.0,\n",
       " 'Sedona': 3.5,\n",
       " 'South Gyle': 2.5,\n",
       " 'South Las Vegas': 4.5,\n",
       " 'South Queensferry': 3.9,\n",
       " 'Spring Valley': 3.5,\n",
       " 'St Clements': 4.5,\n",
       " 'St Jacobs': 3.5,\n",
       " 'St. Jacobs': 4.5,\n",
       " 'Stanfield': 3.5,\n",
       " 'Stockbridge': 4.5,\n",
       " 'Stoughton': 3.75,\n",
       " 'Straiton': 2.5,\n",
       " 'Summerlin': 4.0,\n",
       " 'Summerlin South': 3.25,\n",
       " 'Sun City': 3.55,\n",
       " 'Sun City Anthem': 3.0,\n",
       " 'Sun City West': 3.625,\n",
       " 'Sun Lakes': 3.2222222222222223,\n",
       " 'Sun Prairie': 3.455223880597015,\n",
       " 'Sunrise': 3.0,\n",
       " 'Sunrise Manor': 3.0,\n",
       " 'Surprise': 3.5758426966292136,\n",
       " 'Surprise Crossing': 4.5,\n",
       " 'Tempe': 3.644621295279912,\n",
       " 'Tolleson': 3.2291666666666665,\n",
       " 'Tonopah': 3.75,\n",
       " 'Tonto Basin': 3.8333333333333335,\n",
       " 'Tortilla Flat': 4.166666666666667,\n",
       " 'Trempealeau': 4.0,\n",
       " 'Verona': 3.8548387096774195,\n",
       " 'Victoria Park': 4.5,\n",
       " 'W Henderson': 3.5,\n",
       " 'W Spring Valley': 3.0,\n",
       " 'W Summerlin': 3.5,\n",
       " 'Waddell': 3.8333333333333335,\n",
       " 'Water of Leith': 4.5,\n",
       " 'Waterloo': 3.6054421768707483,\n",
       " 'Waunakee': 3.3333333333333335,\n",
       " 'Whitney': 4.5,\n",
       " 'Wickenburg': 3.6555555555555554,\n",
       " 'Windsor': 3.5,\n",
       " 'Woolwich': 4.25,\n",
       " 'Youngtown': 3.857142857142857,\n",
       " 'chandler': 5.0}"
      ]
     },
     "execution_count": 70,
     "metadata": {},
     "output_type": "execute_result"
    }
   ],
   "source": [
    "city_est = CityEstimator()\n",
    "city_est.fit(data, df['stars'])"
   ]
  },
  {
   "cell_type": "markdown",
   "metadata": {},
   "source": [
    "And let's see if it works."
   ]
  },
  {
   "cell_type": "code",
   "execution_count": 17,
   "metadata": {
    "ExecuteTime": {
     "end_time": "2018-09-20T04:02:47.667482Z",
     "start_time": "2018-09-20T04:02:47.661835Z"
    }
   },
   "outputs": [
    {
     "data": {
      "text/plain": [
       "[3.6702903946388683, 3.75, 3.75, 3.75, 3.75, 3.1, 3.1, 3.1, 3.1, 3.1]"
      ]
     },
     "execution_count": 17,
     "metadata": {},
     "output_type": "execute_result"
    }
   ],
   "source": [
    "city_est.predict(df[:10])"
   ]
  },
  {
   "cell_type": "markdown",
   "metadata": {},
   "source": [
    "There is a problem, however.  What happens if we're asked to estimate the rating of a venue in a city that's not in our training set?"
   ]
  },
  {
   "cell_type": "code",
   "execution_count": 18,
   "metadata": {
    "ExecuteTime": {
     "end_time": "2018-09-20T04:02:52.339512Z",
     "start_time": "2018-09-20T04:02:52.334264Z"
    }
   },
   "outputs": [
    {
     "data": {
      "text/plain": [
       "[3.712759336095808]"
      ]
     },
     "execution_count": 18,
     "metadata": {},
     "output_type": "execute_result"
    }
   ],
   "source": [
    "city_est.predict([{'city': 'Timbuktu'}])"
   ]
  },
  {
   "cell_type": "markdown",
   "metadata": {},
   "source": [
    "Solve this problem before submitting to the grader."
   ]
  },
  {
   "cell_type": "code",
   "execution_count": 19,
   "metadata": {
    "ExecuteTime": {
     "end_time": "2018-09-20T04:02:55.571692Z",
     "start_time": "2018-09-20T04:02:54.934212Z"
    }
   },
   "outputs": [
    {
     "name": "stdout",
     "output_type": "stream",
     "text": [
      "==================\n",
      "Your score:  0.9999919732744944\n",
      "==================\n"
     ]
    }
   ],
   "source": [
    "grader.score('ml__city_model', city_est.predict)"
   ]
  },
  {
   "cell_type": "markdown",
   "metadata": {},
   "source": [
    "## lat_long_model"
   ]
  },
  {
   "cell_type": "markdown",
   "metadata": {},
   "source": [
    "You can imagine that a city-based model might not be sufficiently fine-grained. For example, we know that some neighborhoods are trendier than others.  Use the latitude and longitude of a venue as features that help you understand neighborhood dynamics.\n",
    "\n",
    "Instead of writing a custom estimator, we'll use one of the built-in estimators in Scikit Learn.  Since these estimators won't know what to do with a list of dictionaries, we'll build a `ColumnSelectTransformer` that will return an array containing selected keys of our feature matrix.  While it is tempting to hard-code the latitude and longitude in here, this transformer will be more useful in the future if we write it to work on an arbitrary list of columns."
   ]
  },
  {
   "cell_type": "code",
   "execution_count": 20,
   "metadata": {
    "ExecuteTime": {
     "end_time": "2018-09-20T04:03:04.441059Z",
     "start_time": "2018-09-20T04:03:04.436356Z"
    }
   },
   "outputs": [],
   "source": [
    "class ColumnSelectTransformer(base.BaseEstimator, base.TransformerMixin):\n",
    "    \n",
    "    def __init__(self, col_names):\n",
    "        self.col_names = col_names  # We will need these in transform()\n",
    "    \n",
    "    def fit(self, X, y=None):\n",
    "        # This transformer doesn't need to learn anything about the data,\n",
    "        # so it can just return self without any further processing\n",
    "        return self\n",
    "    \n",
    "    def transform(self, X):\n",
    "        if not isinstance(X,pd.DataFrame):\n",
    "            X=pd.DataFrame(X)\n",
    "        \n",
    "        return X[self.col_names].values.tolist()\n",
    "        # Return an array with the same number of rows as X and one\n",
    "        # column for each in self.col_names"
   ]
  },
  {
   "cell_type": "markdown",
   "metadata": {},
   "source": [
    "Let's test it on a single row, just as a sanity check:"
   ]
  },
  {
   "cell_type": "code",
   "execution_count": 21,
   "metadata": {
    "ExecuteTime": {
     "end_time": "2018-09-20T04:03:06.286883Z",
     "start_time": "2018-09-20T04:03:06.279963Z"
    }
   },
   "outputs": [],
   "source": [
    "cst = ColumnSelectTransformer(['latitude', 'longitude'])\n",
    "assert (cst.fit_transform(data[:1])\n",
    "        == [[data[0]['latitude'], data[0]['longitude']]])"
   ]
  },
  {
   "cell_type": "markdown",
   "metadata": {},
   "source": [
    "Now, let's feed the output of the transformer in to a `sklearn.neighbors.KNeighborsRegressor`.  As a sanity check, we'll test it with the first 5 rows.  To truly judge the performance, we'd need to make a test/train split."
   ]
  },
  {
   "cell_type": "code",
   "execution_count": 22,
   "metadata": {
    "ExecuteTime": {
     "end_time": "2018-09-20T04:03:08.890351Z",
     "start_time": "2018-09-20T04:03:08.482114Z"
    }
   },
   "outputs": [
    {
     "data": {
      "text/plain": [
       "array([4. , 4.2, 4. , 3.8, 4.2])"
      ]
     },
     "execution_count": 22,
     "metadata": {},
     "output_type": "execute_result"
    }
   ],
   "source": [
    "from sklearn.neighbors import KNeighborsRegressor\n",
    "\n",
    "data_transform = cst.fit_transform(data)\n",
    "knn = KNeighborsRegressor(n_neighbors=5)\n",
    "knn.fit(data_transform, star_ratings)\n",
    "test_data = data[:5]\n",
    "test_data_transform = cst.transform(test_data)\n",
    "knn.predict(test_data_transform)"
   ]
  },
  {
   "cell_type": "markdown",
   "metadata": {},
   "source": [
    "Instead of doing this by hand, let's make a pipeline.  Remember that a pipeline is made with a list of (name, transformer-or-estimator) tuples. "
   ]
  },
  {
   "cell_type": "code",
   "execution_count": 23,
   "metadata": {
    "ExecuteTime": {
     "end_time": "2018-09-20T04:03:10.477305Z",
     "start_time": "2018-09-20T04:03:10.471957Z"
    }
   },
   "outputs": [],
   "source": [
    "from sklearn.pipeline import Pipeline\n",
    "\n",
    "pipe = Pipeline([('cst',ColumnSelectTransformer(['latitude', 'longitude'])),\n",
    "                 ('knn',KNeighborsRegressor(n_neighbors=5))\n",
    "        # ColumnSelectTransformer\n",
    "        # KNeighborsRegressor\n",
    "    ])\n",
    "param_grid=[\n",
    "    {'knn':[KNeighborsRegressor()],\n",
    "    'knn__n_neighbors':[2, 10,50,100]}\n",
    "]"
   ]
  },
  {
   "cell_type": "markdown",
   "metadata": {},
   "source": [
    "This should work the same way."
   ]
  },
  {
   "cell_type": "code",
   "execution_count": 24,
   "metadata": {
    "ExecuteTime": {
     "end_time": "2018-09-20T04:03:12.614788Z",
     "start_time": "2018-09-20T04:03:12.364344Z"
    }
   },
   "outputs": [
    {
     "data": {
      "text/plain": [
       "array([4. , 4.2, 4. , 3.8, 4.2])"
      ]
     },
     "execution_count": 24,
     "metadata": {},
     "output_type": "execute_result"
    }
   ],
   "source": [
    "pipe.fit(data, star_ratings)\n",
    "pipe.predict(test_data)"
   ]
  },
  {
   "cell_type": "code",
   "execution_count": 25,
   "metadata": {
    "ExecuteTime": {
     "end_time": "2018-09-20T04:03:16.380141Z",
     "start_time": "2018-09-20T04:03:16.372346Z"
    }
   },
   "outputs": [
    {
     "data": {
      "text/plain": [
       "4.0    8415\n",
       "3.5    8250\n",
       "4.5    5764\n",
       "3.0    5162\n",
       "5.0    4595\n",
       "2.5    3267\n",
       "2.0    1415\n",
       "1.5     683\n",
       "1.0     387\n",
       "Name: stars, dtype: int64"
      ]
     },
     "execution_count": 25,
     "metadata": {},
     "output_type": "execute_result"
    }
   ],
   "source": [
    "df.stars.value_counts()"
   ]
  },
  {
   "cell_type": "markdown",
   "metadata": {},
   "source": [
    "The `KNeighborsRegressor` takes the `n_neighbors` hyperparameter, which tells it how many nearest neighbors to average together when making a prediction.  There is no reason to believe that 5 is the optimum value.  Determine a better value of this hyperparameter.   There are several ways to do this:\n",
    "\n",
    "1. Use [`train_test_split`](http://scikit-learn.org/stable/modules/generated/sklearn.model_selection.train_test_split.html#sklearn.model_selection.train_test_split) to split your data in to a training set and a test set.  Score the performance on the test set.  After finding the best hyperparameter, retrain the model on the full data at that hyperparameter value.\n",
    "\n",
    "2. Use [`cross_val_score`](http://scikit-learn.org/stable/modules/generated/sklearn.model_selection.cross_val_score.html#sklearn.model_selection.cross_val_score) to return cross-validation scores on your data for various values of the hyperparameter.  Choose the best one, and retrain the model on the full data.\n",
    "\n",
    "3. Use [`GridSearchCV`](http://scikit-learn.org/stable/modules/generated/sklearn.model_selection.GridSearchCV.html#sklearn.model_selection.GridSearchCV) to do the splitting, training, and grading automatically.  `GridSearchCV` takes an estimator and acts as an estimator.  You can either give it the `KNeighborsRegressor` directly and put it in a pipeline, or you can pass the whole pipeline into the `GridSearchCV`.  In the latter case, remember that the hyperparameter `param` of an estimator named `est` in a pipeline becomes a hyperparameter of the pipeline with name `est__param`.\n",
    "\n",
    "No matter which you choose, you should consider whether the data need to be shuffled.  The default k-folds split doesn't shuffle.  This is fine, if the data are already random.  The code below will plot a rolling mean of the star ratings.  Do you need to shuffle the data?"
   ]
  },
  {
   "cell_type": "code",
   "execution_count": 26,
   "metadata": {
    "ExecuteTime": {
     "end_time": "2018-09-20T04:03:21.981955Z",
     "start_time": "2018-09-20T04:03:21.796838Z"
    }
   },
   "outputs": [
    {
     "data": {
      "text/plain": [
       "[<matplotlib.lines.Line2D at 0x7fbfcb74a358>]"
      ]
     },
     "execution_count": 26,
     "metadata": {},
     "output_type": "execute_result"
    },
    {
     "data": {
      "image/png": "[encoded data removed]",
      "text/plain": [
       "<Figure size 432x288 with 1 Axes>"
      ]
     },
     "metadata": {},
     "output_type": "display_data"
    }
   ],
   "source": [
    "from pandas import Series\n",
    "import matplotlib.pyplot as plt\n",
    "\n",
    "plt.plot(Series.rolling(Series(star_ratings), window=1000).mean())"
   ]
  },
  {
   "cell_type": "markdown",
   "metadata": {},
   "source": [
    "Once you've found a good value of `n_neighbors`, submit the model to the grader.  (*N.B.* \"Good\" is a relative measure here.  The reference solution has a r-squared value of only 0.02.  There is just rather little signal available for modeling.)"
   ]
  },
  {
   "cell_type": "code",
   "execution_count": null,
   "metadata": {},
   "outputs": [],
   "source": []
  },
  {
   "cell_type": "code",
   "execution_count": 27,
   "metadata": {
    "ExecuteTime": {
     "end_time": "2018-09-20T04:03:28.773424Z",
     "start_time": "2018-09-20T04:03:28.724819Z"
    }
   },
   "outputs": [
    {
     "data": {
      "text/html": [
       "<div>\n",
       "<style scoped>\n",
       "    .dataframe tbody tr th:only-of-type {\n",
       "        vertical-align: middle;\n",
       "    }\n",
       "\n",
       "    .dataframe tbody tr th {\n",
       "        vertical-align: top;\n",
       "    }\n",
       "\n",
       "    .dataframe thead th {\n",
       "        text-align: right;\n",
       "    }\n",
       "</style>\n",
       "<table border=\"1\" class=\"dataframe\">\n",
       "  <thead>\n",
       "    <tr style=\"text-align: right;\">\n",
       "      <th></th>\n",
       "      <th>attributes</th>\n",
       "      <th>business_id</th>\n",
       "      <th>categories</th>\n",
       "      <th>city</th>\n",
       "      <th>full_address</th>\n",
       "      <th>hours</th>\n",
       "      <th>latitude</th>\n",
       "      <th>longitude</th>\n",
       "      <th>name</th>\n",
       "      <th>neighborhoods</th>\n",
       "      <th>open</th>\n",
       "      <th>review_count</th>\n",
       "      <th>state</th>\n",
       "      <th>type</th>\n",
       "    </tr>\n",
       "  </thead>\n",
       "  <tbody>\n",
       "    <tr>\n",
       "      <th>0</th>\n",
       "      <td>{'By Appointment Only': True}</td>\n",
       "      <td>vcNAWiLM4dR7D2nwwJ7nCA</td>\n",
       "      <td>[Doctors, Health &amp; Medical]</td>\n",
       "      <td>Phoenix</td>\n",
       "      <td>4840 E Indian School Rd\\nSte 101\\nPhoenix, AZ ...</td>\n",
       "      <td>{'Tuesday': {'close': '17:00', 'open': '08:00'...</td>\n",
       "      <td>33.499313</td>\n",
       "      <td>-111.983758</td>\n",
       "      <td>Eric Goldberg, MD</td>\n",
       "      <td>[]</td>\n",
       "      <td>True</td>\n",
       "      <td>7</td>\n",
       "      <td>AZ</td>\n",
       "      <td>business</td>\n",
       "    </tr>\n",
       "    <tr>\n",
       "      <th>1</th>\n",
       "      <td>{'Take-out': True, 'Good For': {'dessert': Fal...</td>\n",
       "      <td>JwUE5GmEO-sH1FuwJgKBlQ</td>\n",
       "      <td>[Restaurants]</td>\n",
       "      <td>De Forest</td>\n",
       "      <td>6162 US Highway 51\\nDe Forest, WI 53532</td>\n",
       "      <td>{}</td>\n",
       "      <td>43.238893</td>\n",
       "      <td>-89.335844</td>\n",
       "      <td>Pine Cone Restaurant</td>\n",
       "      <td>[]</td>\n",
       "      <td>True</td>\n",
       "      <td>26</td>\n",
       "      <td>WI</td>\n",
       "      <td>business</td>\n",
       "    </tr>\n",
       "    <tr>\n",
       "      <th>2</th>\n",
       "      <td>{'Take-out': True, 'Good For': {'dessert': Fal...</td>\n",
       "      <td>uGykseHzyS5xAMWoN6YUqA</td>\n",
       "      <td>[American (Traditional), Restaurants]</td>\n",
       "      <td>De Forest</td>\n",
       "      <td>505 W North St\\nDe Forest, WI 53532</td>\n",
       "      <td>{'Monday': {'close': '22:00', 'open': '06:00'}...</td>\n",
       "      <td>43.252267</td>\n",
       "      <td>-89.353437</td>\n",
       "      <td>Deforest Family Restaurant</td>\n",
       "      <td>[]</td>\n",
       "      <td>True</td>\n",
       "      <td>16</td>\n",
       "      <td>WI</td>\n",
       "      <td>business</td>\n",
       "    </tr>\n",
       "    <tr>\n",
       "      <th>3</th>\n",
       "      <td>{'Take-out': True, 'Wi-Fi': 'free', 'Takes Res...</td>\n",
       "      <td>LRKJF43s9-3jG9Lgx4zODg</td>\n",
       "      <td>[Food, Ice Cream &amp; Frozen Yogurt, Fast Food, R...</td>\n",
       "      <td>De Forest</td>\n",
       "      <td>4910 County Rd V\\nDe Forest, WI 53532</td>\n",
       "      <td>{'Monday': {'close': '22:00', 'open': '10:30'}...</td>\n",
       "      <td>43.251045</td>\n",
       "      <td>-89.374983</td>\n",
       "      <td>Culver's</td>\n",
       "      <td>[]</td>\n",
       "      <td>True</td>\n",
       "      <td>7</td>\n",
       "      <td>WI</td>\n",
       "      <td>business</td>\n",
       "    </tr>\n",
       "    <tr>\n",
       "      <th>4</th>\n",
       "      <td>{'Take-out': True, 'Has TV': False, 'Outdoor S...</td>\n",
       "      <td>RgDg-k9S5YD_BaxMckifkg</td>\n",
       "      <td>[Chinese, Restaurants]</td>\n",
       "      <td>De Forest</td>\n",
       "      <td>631 S Main St\\nDe Forest, WI 53532</td>\n",
       "      <td>{'Monday': {'close': '22:00', 'open': '11:00'}...</td>\n",
       "      <td>43.240875</td>\n",
       "      <td>-89.343722</td>\n",
       "      <td>Chang Jiang Chinese Kitchen</td>\n",
       "      <td>[]</td>\n",
       "      <td>True</td>\n",
       "      <td>3</td>\n",
       "      <td>WI</td>\n",
       "      <td>business</td>\n",
       "    </tr>\n",
       "  </tbody>\n",
       "</table>\n",
       "</div>"
      ],
      "text/plain": [
       "                                          attributes             business_id  \\\n",
       "0                      {'By Appointment Only': True}  vcNAWiLM4dR7D2nwwJ7nCA   \n",
       "1  {'Take-out': True, 'Good For': {'dessert': Fal...  JwUE5GmEO-sH1FuwJgKBlQ   \n",
       "2  {'Take-out': True, 'Good For': {'dessert': Fal...  uGykseHzyS5xAMWoN6YUqA   \n",
       "3  {'Take-out': True, 'Wi-Fi': 'free', 'Takes Res...  LRKJF43s9-3jG9Lgx4zODg   \n",
       "4  {'Take-out': True, 'Has TV': False, 'Outdoor S...  RgDg-k9S5YD_BaxMckifkg   \n",
       "\n",
       "                                          categories       city  \\\n",
       "0                        [Doctors, Health & Medical]    Phoenix   \n",
       "1                                      [Restaurants]  De Forest   \n",
       "2              [American (Traditional), Restaurants]  De Forest   \n",
       "3  [Food, Ice Cream & Frozen Yogurt, Fast Food, R...  De Forest   \n",
       "4                             [Chinese, Restaurants]  De Forest   \n",
       "\n",
       "                                        full_address  \\\n",
       "0  4840 E Indian School Rd\\nSte 101\\nPhoenix, AZ ...   \n",
       "1            6162 US Highway 51\\nDe Forest, WI 53532   \n",
       "2                505 W North St\\nDe Forest, WI 53532   \n",
       "3              4910 County Rd V\\nDe Forest, WI 53532   \n",
       "4                 631 S Main St\\nDe Forest, WI 53532   \n",
       "\n",
       "                                               hours   latitude   longitude  \\\n",
       "0  {'Tuesday': {'close': '17:00', 'open': '08:00'...  33.499313 -111.983758   \n",
       "1                                                 {}  43.238893  -89.335844   \n",
       "2  {'Monday': {'close': '22:00', 'open': '06:00'}...  43.252267  -89.353437   \n",
       "3  {'Monday': {'close': '22:00', 'open': '10:30'}...  43.251045  -89.374983   \n",
       "4  {'Monday': {'close': '22:00', 'open': '11:00'}...  43.240875  -89.343722   \n",
       "\n",
       "                          name neighborhoods  open  review_count state  \\\n",
       "0            Eric Goldberg, MD            []  True             7    AZ   \n",
       "1         Pine Cone Restaurant            []  True            26    WI   \n",
       "2   Deforest Family Restaurant            []  True            16    WI   \n",
       "3                     Culver's            []  True             7    WI   \n",
       "4  Chang Jiang Chinese Kitchen            []  True             3    WI   \n",
       "\n",
       "       type  \n",
       "0  business  \n",
       "1  business  \n",
       "2  business  \n",
       "3  business  \n",
       "4  business  "
      ]
     },
     "execution_count": 27,
     "metadata": {},
     "output_type": "execute_result"
    }
   ],
   "source": [
    "df_y=df['stars']\n",
    "df_X=df.drop('stars',axis=1)\n",
    "df_X.head()"
   ]
  },
  {
   "cell_type": "code",
   "execution_count": 28,
   "metadata": {
    "ExecuteTime": {
     "end_time": "2018-09-20T04:03:39.876751Z",
     "start_time": "2018-09-20T04:03:39.832697Z"
    }
   },
   "outputs": [],
   "source": [
    "from sklearn.model_selection import train_test_split,GridSearchCV\n",
    "\n",
    "df_train, df_test = train_test_split(df,stratify=df_y,test_size=0.25)"
   ]
  },
  {
   "cell_type": "code",
   "execution_count": 29,
   "metadata": {
    "ExecuteTime": {
     "end_time": "2018-09-20T04:03:50.365387Z",
     "start_time": "2018-09-20T04:03:50.346998Z"
    }
   },
   "outputs": [],
   "source": [
    "df_train_y=df.stars\n",
    "df_train_X=df.drop('stars',axis=1)"
   ]
  },
  {
   "cell_type": "code",
   "execution_count": 30,
   "metadata": {
    "ExecuteTime": {
     "end_time": "2018-09-20T04:03:51.475234Z",
     "start_time": "2018-09-20T04:03:51.458751Z"
    }
   },
   "outputs": [],
   "source": [
    "df_test_X=df.drop('stars',axis=1)\n",
    "df_test_y=df.stars"
   ]
  },
  {
   "cell_type": "code",
   "execution_count": 31,
   "metadata": {
    "ExecuteTime": {
     "end_time": "2018-09-20T04:03:53.495150Z",
     "start_time": "2018-09-20T04:03:53.462442Z"
    }
   },
   "outputs": [
    {
     "data": {
      "text/html": [
       "<div>\n",
       "<style scoped>\n",
       "    .dataframe tbody tr th:only-of-type {\n",
       "        vertical-align: middle;\n",
       "    }\n",
       "\n",
       "    .dataframe tbody tr th {\n",
       "        vertical-align: top;\n",
       "    }\n",
       "\n",
       "    .dataframe thead th {\n",
       "        text-align: right;\n",
       "    }\n",
       "</style>\n",
       "<table border=\"1\" class=\"dataframe\">\n",
       "  <thead>\n",
       "    <tr style=\"text-align: right;\">\n",
       "      <th></th>\n",
       "      <th>attributes</th>\n",
       "      <th>business_id</th>\n",
       "      <th>categories</th>\n",
       "      <th>city</th>\n",
       "      <th>full_address</th>\n",
       "      <th>hours</th>\n",
       "      <th>latitude</th>\n",
       "      <th>longitude</th>\n",
       "      <th>name</th>\n",
       "      <th>neighborhoods</th>\n",
       "      <th>open</th>\n",
       "      <th>review_count</th>\n",
       "      <th>state</th>\n",
       "      <th>type</th>\n",
       "    </tr>\n",
       "  </thead>\n",
       "  <tbody>\n",
       "    <tr>\n",
       "      <th>0</th>\n",
       "      <td>{'By Appointment Only': True}</td>\n",
       "      <td>vcNAWiLM4dR7D2nwwJ7nCA</td>\n",
       "      <td>[Doctors, Health &amp; Medical]</td>\n",
       "      <td>Phoenix</td>\n",
       "      <td>4840 E Indian School Rd\\nSte 101\\nPhoenix, AZ ...</td>\n",
       "      <td>{'Tuesday': {'close': '17:00', 'open': '08:00'...</td>\n",
       "      <td>33.499313</td>\n",
       "      <td>-111.983758</td>\n",
       "      <td>Eric Goldberg, MD</td>\n",
       "      <td>[]</td>\n",
       "      <td>True</td>\n",
       "      <td>7</td>\n",
       "      <td>AZ</td>\n",
       "      <td>business</td>\n",
       "    </tr>\n",
       "    <tr>\n",
       "      <th>1</th>\n",
       "      <td>{'Take-out': True, 'Good For': {'dessert': Fal...</td>\n",
       "      <td>JwUE5GmEO-sH1FuwJgKBlQ</td>\n",
       "      <td>[Restaurants]</td>\n",
       "      <td>De Forest</td>\n",
       "      <td>6162 US Highway 51\\nDe Forest, WI 53532</td>\n",
       "      <td>{}</td>\n",
       "      <td>43.238893</td>\n",
       "      <td>-89.335844</td>\n",
       "      <td>Pine Cone Restaurant</td>\n",
       "      <td>[]</td>\n",
       "      <td>True</td>\n",
       "      <td>26</td>\n",
       "      <td>WI</td>\n",
       "      <td>business</td>\n",
       "    </tr>\n",
       "    <tr>\n",
       "      <th>2</th>\n",
       "      <td>{'Take-out': True, 'Good For': {'dessert': Fal...</td>\n",
       "      <td>uGykseHzyS5xAMWoN6YUqA</td>\n",
       "      <td>[American (Traditional), Restaurants]</td>\n",
       "      <td>De Forest</td>\n",
       "      <td>505 W North St\\nDe Forest, WI 53532</td>\n",
       "      <td>{'Monday': {'close': '22:00', 'open': '06:00'}...</td>\n",
       "      <td>43.252267</td>\n",
       "      <td>-89.353437</td>\n",
       "      <td>Deforest Family Restaurant</td>\n",
       "      <td>[]</td>\n",
       "      <td>True</td>\n",
       "      <td>16</td>\n",
       "      <td>WI</td>\n",
       "      <td>business</td>\n",
       "    </tr>\n",
       "    <tr>\n",
       "      <th>3</th>\n",
       "      <td>{'Take-out': True, 'Wi-Fi': 'free', 'Takes Res...</td>\n",
       "      <td>LRKJF43s9-3jG9Lgx4zODg</td>\n",
       "      <td>[Food, Ice Cream &amp; Frozen Yogurt, Fast Food, R...</td>\n",
       "      <td>De Forest</td>\n",
       "      <td>4910 County Rd V\\nDe Forest, WI 53532</td>\n",
       "      <td>{'Monday': {'close': '22:00', 'open': '10:30'}...</td>\n",
       "      <td>43.251045</td>\n",
       "      <td>-89.374983</td>\n",
       "      <td>Culver's</td>\n",
       "      <td>[]</td>\n",
       "      <td>True</td>\n",
       "      <td>7</td>\n",
       "      <td>WI</td>\n",
       "      <td>business</td>\n",
       "    </tr>\n",
       "    <tr>\n",
       "      <th>4</th>\n",
       "      <td>{'Take-out': True, 'Has TV': False, 'Outdoor S...</td>\n",
       "      <td>RgDg-k9S5YD_BaxMckifkg</td>\n",
       "      <td>[Chinese, Restaurants]</td>\n",
       "      <td>De Forest</td>\n",
       "      <td>631 S Main St\\nDe Forest, WI 53532</td>\n",
       "      <td>{'Monday': {'close': '22:00', 'open': '11:00'}...</td>\n",
       "      <td>43.240875</td>\n",
       "      <td>-89.343722</td>\n",
       "      <td>Chang Jiang Chinese Kitchen</td>\n",
       "      <td>[]</td>\n",
       "      <td>True</td>\n",
       "      <td>3</td>\n",
       "      <td>WI</td>\n",
       "      <td>business</td>\n",
       "    </tr>\n",
       "  </tbody>\n",
       "</table>\n",
       "</div>"
      ],
      "text/plain": [
       "                                          attributes             business_id  \\\n",
       "0                      {'By Appointment Only': True}  vcNAWiLM4dR7D2nwwJ7nCA   \n",
       "1  {'Take-out': True, 'Good For': {'dessert': Fal...  JwUE5GmEO-sH1FuwJgKBlQ   \n",
       "2  {'Take-out': True, 'Good For': {'dessert': Fal...  uGykseHzyS5xAMWoN6YUqA   \n",
       "3  {'Take-out': True, 'Wi-Fi': 'free', 'Takes Res...  LRKJF43s9-3jG9Lgx4zODg   \n",
       "4  {'Take-out': True, 'Has TV': False, 'Outdoor S...  RgDg-k9S5YD_BaxMckifkg   \n",
       "\n",
       "                                          categories       city  \\\n",
       "0                        [Doctors, Health & Medical]    Phoenix   \n",
       "1                                      [Restaurants]  De Forest   \n",
       "2              [American (Traditional), Restaurants]  De Forest   \n",
       "3  [Food, Ice Cream & Frozen Yogurt, Fast Food, R...  De Forest   \n",
       "4                             [Chinese, Restaurants]  De Forest   \n",
       "\n",
       "                                        full_address  \\\n",
       "0  4840 E Indian School Rd\\nSte 101\\nPhoenix, AZ ...   \n",
       "1            6162 US Highway 51\\nDe Forest, WI 53532   \n",
       "2                505 W North St\\nDe Forest, WI 53532   \n",
       "3              4910 County Rd V\\nDe Forest, WI 53532   \n",
       "4                 631 S Main St\\nDe Forest, WI 53532   \n",
       "\n",
       "                                               hours   latitude   longitude  \\\n",
       "0  {'Tuesday': {'close': '17:00', 'open': '08:00'...  33.499313 -111.983758   \n",
       "1                                                 {}  43.238893  -89.335844   \n",
       "2  {'Monday': {'close': '22:00', 'open': '06:00'}...  43.252267  -89.353437   \n",
       "3  {'Monday': {'close': '22:00', 'open': '10:30'}...  43.251045  -89.374983   \n",
       "4  {'Monday': {'close': '22:00', 'open': '11:00'}...  43.240875  -89.343722   \n",
       "\n",
       "                          name neighborhoods  open  review_count state  \\\n",
       "0            Eric Goldberg, MD            []  True             7    AZ   \n",
       "1         Pine Cone Restaurant            []  True            26    WI   \n",
       "2   Deforest Family Restaurant            []  True            16    WI   \n",
       "3                     Culver's            []  True             7    WI   \n",
       "4  Chang Jiang Chinese Kitchen            []  True             3    WI   \n",
       "\n",
       "       type  \n",
       "0  business  \n",
       "1  business  \n",
       "2  business  \n",
       "3  business  \n",
       "4  business  "
      ]
     },
     "execution_count": 31,
     "metadata": {},
     "output_type": "execute_result"
    }
   ],
   "source": [
    "df_train_X.head()"
   ]
  },
  {
   "cell_type": "code",
   "execution_count": 32,
   "metadata": {
    "ExecuteTime": {
     "end_time": "2018-09-20T04:04:13.112343Z",
     "start_time": "2018-09-20T04:04:13.109199Z"
    }
   },
   "outputs": [],
   "source": [
    "param_grid=[\n",
    "    {'knn':[KNeighborsRegressor()],\n",
    "    'knn__n_neighbors':[100]}\n",
    "]\n",
    "grid_search = GridSearchCV(pipe, param_grid=param_grid, cv=5)\n"
   ]
  },
  {
   "cell_type": "code",
   "execution_count": 33,
   "metadata": {
    "ExecuteTime": {
     "end_time": "2018-09-20T04:04:22.828860Z",
     "start_time": "2018-09-20T04:04:22.824266Z"
    }
   },
   "outputs": [],
   "source": [
    "grid_search = GridSearchCV(pipe, param_grid=param_grid, cv=5)\n"
   ]
  },
  {
   "cell_type": "code",
   "execution_count": 34,
   "metadata": {
    "ExecuteTime": {
     "end_time": "2018-09-20T04:04:39.333417Z",
     "start_time": "2018-09-20T04:04:32.259958Z"
    }
   },
   "outputs": [
    {
     "data": {
      "text/plain": [
       "GridSearchCV(cv=5, error_score='raise',\n",
       "       estimator=Pipeline(memory=None,\n",
       "     steps=[('cst', ColumnSelectTransformer(col_names=['latitude', 'longitude'])), ('knn', KNeighborsRegressor(algorithm='auto', leaf_size=30, metric='minkowski',\n",
       "          metric_params=None, n_jobs=1, n_neighbors=5, p=2,\n",
       "          weights='uniform'))]),\n",
       "       fit_params=None, iid=True, n_jobs=1,\n",
       "       param_grid=[{'knn': [KNeighborsRegressor(algorithm='auto', leaf_size=30, metric='minkowski',\n",
       "          metric_params=None, n_jobs=1, n_neighbors=100, p=2,\n",
       "          weights='uniform')], 'knn__n_neighbors': [100]}],\n",
       "       pre_dispatch='2*n_jobs', refit=True, return_train_score='warn',\n",
       "       scoring=None, verbose=0)"
      ]
     },
     "execution_count": 34,
     "metadata": {},
     "output_type": "execute_result"
    }
   ],
   "source": [
    "grid_search.fit(df_X,df_y)"
   ]
  },
  {
   "cell_type": "code",
   "execution_count": null,
   "metadata": {
    "ExecuteTime": {
     "end_time": "2018-09-16T19:34:53.808699Z",
     "start_time": "2018-09-16T19:34:53.802563Z"
    }
   },
   "outputs": [],
   "source": [
    "print(\"Best estimator found:\")\n",
    "print(grid_search.best_estimator_)\n",
    "\n",
    "print(\"Best score:\")\n",
    "print(grid_search.best_score_)\n",
    "\n",
    "print(\"Best parameters found:\")\n",
    "print(grid_search.best_params_)"
   ]
  },
  {
   "cell_type": "code",
   "execution_count": null,
   "metadata": {
    "ExecuteTime": {
     "end_time": "2018-09-16T19:39:52.758214Z",
     "start_time": "2018-09-16T19:39:51.574769Z"
    }
   },
   "outputs": [],
   "source": [
    "y_pred = grid_search.predict(df_test_X)"
   ]
  },
  {
   "cell_type": "code",
   "execution_count": null,
   "metadata": {
    "ExecuteTime": {
     "end_time": "2018-09-16T19:42:46.026187Z",
     "start_time": "2018-09-16T19:42:46.023353Z"
    }
   },
   "outputs": [],
   "source": [
    "def round_rating(value):\n",
    "    return round(value * 2) / 2"
   ]
  },
  {
   "cell_type": "code",
   "execution_count": null,
   "metadata": {
    "ExecuteTime": {
     "end_time": "2018-09-16T19:47:12.164789Z",
     "start_time": "2018-09-16T19:47:12.161721Z"
    }
   },
   "outputs": [],
   "source": [
    "from sklearn.metrics import accuracy_score"
   ]
  },
  {
   "cell_type": "code",
   "execution_count": null,
   "metadata": {
    "ExecuteTime": {
     "end_time": "2018-09-16T19:45:41.575790Z",
     "start_time": "2018-09-16T19:45:41.478910Z"
    }
   },
   "outputs": [],
   "source": [
    "y_pred_mod=list(map(round_rating,y_pred))"
   ]
  },
  {
   "cell_type": "code",
   "execution_count": null,
   "metadata": {
    "ExecuteTime": {
     "end_time": "2018-09-16T19:48:46.358075Z",
     "start_time": "2018-09-16T19:48:46.354282Z"
    }
   },
   "outputs": [],
   "source": [
    "import numpy as np"
   ]
  },
  {
   "cell_type": "code",
   "execution_count": null,
   "metadata": {
    "ExecuteTime": {
     "end_time": "2018-09-16T19:48:21.876263Z",
     "start_time": "2018-09-16T19:48:21.871805Z"
    }
   },
   "outputs": [],
   "source": [
    "df_test_y.values"
   ]
  },
  {
   "cell_type": "code",
   "execution_count": 35,
   "metadata": {
    "ExecuteTime": {
     "end_time": "2018-09-20T04:04:59.988430Z",
     "start_time": "2018-09-20T04:04:59.131081Z"
    }
   },
   "outputs": [
    {
     "name": "stdout",
     "output_type": "stream",
     "text": [
      "==================\n",
      "Your score:  1.0389501782238815\n",
      "==================\n"
     ]
    }
   ],
   "source": [
    "grader.score('ml__lat_long_model', grid_search.predict)  # Edit to appropriate name"
   ]
  },
  {
   "cell_type": "markdown",
   "metadata": {},
   "source": [
    "*Item for thought:* Why do we choose a non-linear model for this estimator?\n",
    "\n",
    "*Extension:* Use a `sklearn.ensemble.RandomForestRegressor`, which is a more powerful non-linear model.  Can you get better performance with this than with the `KNeighborsRegressor`?"
   ]
  },
  {
   "cell_type": "markdown",
   "metadata": {},
   "source": [
    "## category_model"
   ]
  },
  {
   "cell_type": "markdown",
   "metadata": {},
   "source": [
    "While location is important, we could also try seeing how predictive the\n",
    "venue's category is.  Build an estimator that considers only the categories.\n",
    "\n",
    "The categories come as a list of strings, but the built-in estimators all need numeric input.  The standard way to deal with categorical features is **one-hot encoding**, also known as dummy variables.  In this approach, each category gets its own column in the feature matrix.  If the row has a given category, that column gets filled with a 1.  Otherwise, it is 0.\n",
    "\n",
    "The `ColumnSelectTransformer` from the previous question can be used to extract the categories column as a list of strings.  Scikit Learn provides [`DictVectorizer`](http://scikit-learn.org/stable/modules/generated/sklearn.feature_extraction.DictVectorizer.html#sklearn.feature_extraction.DictVectorizer), which takes in a list of dictionaries.  It creates a column in the output matrix for each key in the dictionary and fills it with the value associated with it.  Missing keys are filled with zeros.  Therefore, we need only build a transformer that takes a list strings to a dictionary with keys given by those strings and values one."
   ]
  },
  {
   "cell_type": "code",
   "execution_count": null,
   "metadata": {
    "ExecuteTime": {
     "end_time": "2018-09-16T20:09:17.423215Z",
     "start_time": "2018-09-16T20:09:17.415939Z"
    }
   },
   "outputs": [],
   "source": [
    "df.categories[:10]"
   ]
  },
  {
   "cell_type": "code",
   "execution_count": 36,
   "metadata": {
    "ExecuteTime": {
     "end_time": "2018-09-20T04:05:10.966472Z",
     "start_time": "2018-09-20T04:05:10.961919Z"
    }
   },
   "outputs": [],
   "source": [
    "class DictEncoder(base.BaseEstimator, base.TransformerMixin):\n",
    "    \n",
    "    def fit(self, X, y=None):\n",
    "        return self\n",
    "    \n",
    "    def _transform(self,alist):\n",
    "        if len(alist) ==1:\n",
    "            alist=sum(alist,[])\n",
    "        return dict(zip(alist,[1]*len(alist)))\n",
    "    \n",
    "    def transform(self, X):\n",
    "        \n",
    "        return list(map(self._transform,X))\n",
    "        # X will come in as a list of lists of lists.  Return a list of\n",
    "        # dictionaries corresponding to those inner lists."
   ]
  },
  {
   "cell_type": "markdown",
   "metadata": {},
   "source": [
    "That should allow this to pass:"
   ]
  },
  {
   "cell_type": "code",
   "execution_count": 37,
   "metadata": {
    "ExecuteTime": {
     "end_time": "2018-09-20T04:05:14.298192Z",
     "start_time": "2018-09-20T04:05:14.295057Z"
    }
   },
   "outputs": [],
   "source": [
    "from sklearn import linear_model\n",
    "reg = linear_model.Lasso(alpha = 0.1)"
   ]
  },
  {
   "cell_type": "code",
   "execution_count": null,
   "metadata": {
    "ExecuteTime": {
     "end_time": "2018-09-17T00:49:07.181119Z",
     "start_time": "2018-09-17T00:49:07.175767Z"
    }
   },
   "outputs": [],
   "source": [
    "df.categories[:10].tolist()"
   ]
  },
  {
   "cell_type": "code",
   "execution_count": 38,
   "metadata": {
    "ExecuteTime": {
     "end_time": "2018-09-20T04:05:16.412587Z",
     "start_time": "2018-09-20T04:05:16.409353Z"
    }
   },
   "outputs": [],
   "source": [
    "assert (DictEncoder().fit_transform([[['a']], [['b', 'c']]])\n",
    "        == [{'a': 1}, {'b': 1, 'c': 1}])"
   ]
  },
  {
   "cell_type": "markdown",
   "metadata": {},
   "source": [
    "Set up a pipeline with your `ColumnSelectTransformer`, your `DictEncoder`, the `DictVectorizer`, and a regularized linear model, like `Ridge`, as the estimator.  This model will have a large number of features, one for each category, so there is a significant danger of overfitting.  Use cross validation to choose the best regularization parameter."
   ]
  },
  {
   "cell_type": "code",
   "execution_count": 39,
   "metadata": {
    "ExecuteTime": {
     "end_time": "2018-09-20T04:05:20.814550Z",
     "start_time": "2018-09-20T04:05:20.809639Z"
    }
   },
   "outputs": [],
   "source": [
    "from sklearn import linear_model\n",
    "from sklearn.feature_extraction import DictVectorizer\n",
    "cat_pipe = Pipeline([('cst',ColumnSelectTransformer(['categories'])),\n",
    "                     ('DictEn',DictEncoder()),\n",
    "                     ('DictVec',DictVectorizer(sparse=False)),\n",
    "                     ('Ridge', linear_model.Ridge(alpha = 0.1))\n",
    "                     \n",
    "        # ColumnSelectTransformer\n",
    "        # KNeighborsRegressor\n",
    "    ])"
   ]
  },
  {
   "cell_type": "code",
   "execution_count": 40,
   "metadata": {
    "ExecuteTime": {
     "end_time": "2018-09-20T04:05:46.477451Z",
     "start_time": "2018-09-20T04:05:46.474186Z"
    }
   },
   "outputs": [],
   "source": [
    "cat_pipe = Pipeline([('cst',ColumnSelectTransformer(['categories'])),\n",
    "                     ('DictEn',DictEncoder()),\n",
    "                     ('DictVec',DictVectorizer(sparse=False)),\n",
    "                     ('Ridge', linear_model.Ridge(alpha = 0.1))\n",
    "                     \n",
    "        # ColumnSelectTransformer\n",
    "        # KNeighborsRegressor\n",
    "    ])\n",
    "\n",
    "param_grid=[\n",
    "    {'Ridge':[linear_model.Ridge()],\n",
    "    'Ridge__alpha':[1.0],\n",
    "    }\n",
    "]\n",
    "grid_search_cat = GridSearchCV(cat_pipe, param_grid=param_grid, cv=10)"
   ]
  },
  {
   "cell_type": "code",
   "execution_count": 41,
   "metadata": {
    "ExecuteTime": {
     "end_time": "2018-09-20T04:05:48.579692Z",
     "start_time": "2018-09-20T04:05:48.576372Z"
    }
   },
   "outputs": [],
   "source": [
    "grid_search_cat = GridSearchCV(cat_pipe, param_grid=param_grid, cv=10)"
   ]
  },
  {
   "cell_type": "code",
   "execution_count": 43,
   "metadata": {
    "ExecuteTime": {
     "end_time": "2018-09-20T04:06:33.911747Z",
     "start_time": "2018-09-20T04:06:14.623848Z"
    }
   },
   "outputs": [
    {
     "data": {
      "text/plain": [
       "GridSearchCV(cv=10, error_score='raise',\n",
       "       estimator=Pipeline(memory=None,\n",
       "     steps=[('cst', ColumnSelectTransformer(col_names=['categories'])), ('DictEn', DictEncoder()), ('DictVec', DictVectorizer(dtype=<class 'numpy.float64'>, separator='=', sort=True,\n",
       "        sparse=False)), ('Ridge', Ridge(alpha=0.1, copy_X=True, fit_intercept=True, max_iter=None,\n",
       "   normalize=False, random_state=None, solver='auto', tol=0.001))]),\n",
       "       fit_params=None, iid=True, n_jobs=1,\n",
       "       param_grid=[{'Ridge': [Ridge(alpha=1.0, copy_X=True, fit_intercept=True, max_iter=None,\n",
       "   normalize=False, random_state=None, solver='auto', tol=0.001)], 'Ridge__alpha': [1.0]}],\n",
       "       pre_dispatch='2*n_jobs', refit=True, return_train_score='warn',\n",
       "       scoring=None, verbose=0)"
      ]
     },
     "execution_count": 43,
     "metadata": {},
     "output_type": "execute_result"
    }
   ],
   "source": [
    "grid_search_cat.fit(df_X,df_y)"
   ]
  },
  {
   "cell_type": "code",
   "execution_count": null,
   "metadata": {
    "ExecuteTime": {
     "end_time": "2018-09-17T04:00:28.864657Z",
     "start_time": "2018-09-17T04:00:28.859684Z"
    }
   },
   "outputs": [],
   "source": [
    "print(\"Best estimator found:\")\n",
    "print(grid_search_cat.best_estimator_)\n",
    "\n",
    "print(\"Best score:\")\n",
    "print(grid_search_cat.best_score_)\n",
    "\n",
    "print(\"Best parameters found:\")\n",
    "print(grid_search_cat.best_params_)"
   ]
  },
  {
   "cell_type": "code",
   "execution_count": 44,
   "metadata": {
    "ExecuteTime": {
     "end_time": "2018-09-20T04:06:34.599806Z",
     "start_time": "2018-09-20T04:06:33.917483Z"
    }
   },
   "outputs": [
    {
     "name": "stdout",
     "output_type": "stream",
     "text": [
      "==================\n",
      "Your score:  0.9650792586503797\n",
      "==================\n"
     ]
    }
   ],
   "source": [
    "grader.score('ml__category_model', grid_search_cat.predict)  # Edit to appropriate name"
   ]
  },
  {
   "cell_type": "code",
   "execution_count": 50,
   "metadata": {
    "ExecuteTime": {
     "end_time": "2018-09-20T04:09:15.209201Z",
     "start_time": "2018-09-20T04:09:15.204017Z"
    }
   },
   "outputs": [],
   "source": [
    "cat_pipe_mod = Pipeline([('cst',ColumnSelectTransformer(['categories'])),\n",
    "                     ('DictEn',DictEncoder()),\n",
    "                     ('DictVec',DictVectorizer(sparse=False)),\n",
    "                     ('TfidTransform',text.TfidfTransformer()),\n",
    "                     ('Ridge', linear_model.Ridge(alpha = 1))\n",
    "                     \n",
    "        # ColumnSelectTransformer\n",
    "        # KNeighborsRegressor\n",
    "    ])"
   ]
  },
  {
   "cell_type": "code",
   "execution_count": 52,
   "metadata": {
    "ExecuteTime": {
     "end_time": "2018-09-20T04:10:08.115687Z",
     "start_time": "2018-09-20T04:10:06.794496Z"
    }
   },
   "outputs": [
    {
     "data": {
      "text/plain": [
       "Pipeline(memory=None,\n",
       "     steps=[('cst', ColumnSelectTransformer(col_names=['categories'])), ('DictEn', DictEncoder()), ('DictVec', DictVectorizer(dtype=<class 'numpy.float64'>, separator='=', sort=True,\n",
       "        sparse=False)), ('TfidTransform', TfidfTransformer(norm='l2', smooth_idf=True, sublinear_tf=False, use_idf=True)), ('Ridge', Ridge(alpha=1, copy_X=True, fit_intercept=True, max_iter=None,\n",
       "   normalize=False, random_state=None, solver='auto', tol=0.001))])"
      ]
     },
     "execution_count": 52,
     "metadata": {},
     "output_type": "execute_result"
    }
   ],
   "source": [
    "cat_pipe_mod.fit(df_X,df_y)"
   ]
  },
  {
   "cell_type": "code",
   "execution_count": 53,
   "metadata": {
    "ExecuteTime": {
     "end_time": "2018-09-20T04:10:09.533858Z",
     "start_time": "2018-09-20T04:10:08.911865Z"
    }
   },
   "outputs": [
    {
     "name": "stdout",
     "output_type": "stream",
     "text": [
      "==================\n",
      "Your score:  1.0109006255602029\n",
      "==================\n"
     ]
    }
   ],
   "source": [
    "grader.score('ml__category_model', cat_pipe_mod.predict)  # Edit to appropriate name"
   ]
  },
  {
   "cell_type": "markdown",
   "metadata": {},
   "source": [
    "*Extension:* Some categories (e.g. Restaurants) are not very specific.  Others (Japanese sushi) are much more so.  One way to deal with this is with an measure call term-frequency-inverse-document-frequency (TF-IDF).  Add in a `sklearn.feature_extraction.text.TfidfTransformer` between the `DictVectorizer` and the linear model, and see if that improves performance.\n",
    "\n",
    "*Extension:* Can you beat the performance of the linear estimator with a\n",
    "non-linear model?"
   ]
  },
  {
   "cell_type": "markdown",
   "metadata": {},
   "source": [
    "## attribute_model"
   ]
  },
  {
   "cell_type": "markdown",
   "metadata": {},
   "source": [
    "There is even more information in the attributes for each venue.  Let's build an estimator based on these.\n",
    "\n",
    "Venues attributes may be nested:\n",
    "```\n",
    "{\n",
    "  'Attire': 'casual',\n",
    "  'Accepts Credit Cards': True,\n",
    "  'Ambiance': {'casual': False, 'classy': False}\n",
    "}\n",
    "```\n",
    "We wish to encode them with one-hot encoding.  The `DictVectorizer` can do this, but only once we've flattened the dictionary to a single level, like so:\n",
    "```\n",
    "{\n",
    "  'Attire_casual' : 1,\n",
    "  'Accepts Credit Cards': 1,\n",
    "  'Ambiance_casual': 0,\n",
    "  'Ambiance_classy': 0\n",
    "}\n",
    "```\n",
    "\n",
    "Build a custom transformer that flattens the attributes dictionary.  Place this in a pipeline with a `DictVectorizer` and a regressor.\n",
    "\n",
    "You may find it difficult to find a single regressor that does well enough.  A common solution is to use a linear model to fit the linear part of some data, and use a non-linear model to fit the residual that the linear model can't fit.  Build a residual estimator that takes as an argument two other estimators.  It should use the first to fit the raw data and the second to fit the residuals of the first."
   ]
  },
  {
   "cell_type": "code",
   "execution_count": 201,
   "metadata": {
    "ExecuteTime": {
     "end_time": "2018-09-21T01:10:18.671949Z",
     "start_time": "2018-09-21T01:10:18.665704Z"
    }
   },
   "outputs": [],
   "source": [
    "class Att_converter(base.BaseEstimator, base.TransformerMixin):\n",
    "    \n",
    "    def fit(self, X, y=None):\n",
    "        return self\n",
    "    \n",
    "    def _transform(self,data):\n",
    "        \n",
    "        new_data=pd.io.json.json_normalize(data,sep=\"_\")\n",
    "        new_data.replace(True,1,inplace=True)\n",
    "        new_data.replace(False,0,inplace=True)\n",
    "        new_data.fillna(0, inplace=True)\n",
    "        return pd.get_dummies(new_data)\n",
    "    \n",
    "    def _drop_zero_columns(self,data):\n",
    "        alist=[i  for i in data.columns.tolist() if i[-2:] == \"_0\"]\n",
    "        return data.drop(alist,axis=1)\n",
    "    \n",
    "    def transform(self, X):\n",
    "        if not isinstance(X, pd.DataFrame):\n",
    "            X=pd.DataFrame(X)\n",
    "        new_data=self._transform(X.attributes)\n",
    "        #clean_data= self._drop_zero_columns(new_data)\n",
    "        \n",
    "        return new_data\n",
    "        # X will come in as a list of lists of lists.  Return a list of\n",
    "        # dictionaries corresponding to those inner lists."
   ]
  },
  {
   "cell_type": "code",
   "execution_count": 55,
   "metadata": {
    "ExecuteTime": {
     "end_time": "2018-09-20T04:11:07.177892Z",
     "start_time": "2018-09-20T04:11:07.172693Z"
    }
   },
   "outputs": [],
   "source": [
    "class features_align(base.BaseEstimator, base.TransformerMixin):\n",
    "    \n",
    "    def __init__(self):\n",
    "        self.cols=None\n",
    "        self.df=None\n",
    "    \n",
    "    def fit(self, X,y=None):\n",
    "        #print(X.head())\n",
    "        self.cols = X.columns.tolist()\n",
    "        return self\n",
    "\n",
    "\n",
    "    \n",
    "    \n",
    "    def transform(self, X):\n",
    "        if not isinstance(X, pd.DataFrame):\n",
    "            X=pd.DataFrame(X)\n",
    "        missing_cols = set( self.cols ) - set( X.columns.tolist() )\n",
    "        for c in missing_cols:\n",
    "            X[c]= 0\n",
    "        X = X[self.cols]\n",
    "        new_data=X.astype('category', categories=self.cols)\n",
    "        #clean_data= self._drop_zero_columns(new_data)\n",
    "        \n",
    "        return new_data"
   ]
  },
  {
   "cell_type": "code",
   "execution_count": 203,
   "metadata": {
    "ExecuteTime": {
     "end_time": "2018-09-21T01:10:30.871209Z",
     "start_time": "2018-09-21T01:10:30.865941Z"
    }
   },
   "outputs": [],
   "source": [
    "att_pipe= Pipeline([('att_conv',Att_converter()),\n",
    "                    ('f_align',features_align()),\n",
    "#                      ('DictEn',DictEncoder()),\n",
    "#                      ('DictVec',DictVectorizer(sparse=False)),\n",
    "                    #('vect', text.CountVectorizer()),\n",
    "                    #('TfidTransform',text.TfidfTransformer()),\n",
    "                    #('TfidVec',text.TfidfVectorizer()),\n",
    "                    #('Lasso', linear_model.Lasso())\n",
    "                    ('Ridge',linear_model.Ridge(alpha=1.0))\n",
    "                    #('Reg', linear_model.LinearRegression())\n",
    "                     \n",
    "        # ColumnSelectTransformer\n",
    "        # KNeighborsRegressor\n",
    "    ])"
   ]
  },
  {
   "cell_type": "code",
   "execution_count": 57,
   "metadata": {
    "ExecuteTime": {
     "end_time": "2018-09-20T04:12:12.764886Z",
     "start_time": "2018-09-20T04:12:12.745235Z"
    }
   },
   "outputs": [],
   "source": [
    "from sklearn.preprocessing import PolynomialFeatures\n",
    "from sklearn.ensemble import RandomForestClassifier as RF\n",
    "from sklearn import svm\n",
    "from sklearn.ensemble import RandomForestRegressor\n",
    "class myEstimator(base.BaseEstimator, base.RegressorMixin):\n",
    "    def __init__(self):\n",
    "        self.reg=linear_model.LinearRegression()\n",
    "        self.model2=RandomForestRegressor(max_depth=85,n_estimators=200,min_samples_split=10,max_features='log2')\n",
    "        #self.model2=svm.SVR()\n",
    "        \n",
    "    \n",
    "        # initialization code\n",
    "    def fit(self, X, y):\n",
    "        self.reg.fit(X,y)\n",
    "        y_predict=self.reg.predict(X)\n",
    "        residual=y-y_predict\n",
    "        #self.RF.fit(X,residual)\n",
    "        self.model2.fit(X,residual)\n",
    "    \n",
    "        # fit the model ...\n",
    "        return self\n",
    "#     def roundPartial (self, result):\n",
    "#         return round (result / 0.5) * 0.5\n",
    "    def predict(self, X):\n",
    "        reg_y_predict=self.reg.predict(X)\n",
    "        residual_predict=self.model2.predict(X)\n",
    "        result=reg_y_predict+residual_predict\n",
    "        return result\n",
    "        #return list(map(self.roundPartial,result))\n",
    "\n",
    "    def score(self, X, y):\n",
    "        return # custom score implementation"
   ]
  },
  {
   "cell_type": "code",
   "execution_count": 204,
   "metadata": {
    "ExecuteTime": {
     "end_time": "2018-09-21T01:10:38.309335Z",
     "start_time": "2018-09-21T01:10:33.908667Z"
    }
   },
   "outputs": [
    {
     "data": {
      "text/plain": [
       "Pipeline(memory=None,\n",
       "     steps=[('att_conv', Att_converter()), ('f_align', features_align()), ('Ridge', Ridge(alpha=1.0, copy_X=True, fit_intercept=True, max_iter=None,\n",
       "   normalize=False, random_state=None, solver='auto', tol=0.001))])"
      ]
     },
     "execution_count": 204,
     "metadata": {},
     "output_type": "execute_result"
    }
   ],
   "source": [
    "att_pipe.fit(df_X,df_y)"
   ]
  },
  {
   "cell_type": "code",
   "execution_count": 206,
   "metadata": {
    "ExecuteTime": {
     "end_time": "2018-09-21T01:10:56.408008Z",
     "start_time": "2018-09-21T01:10:51.910728Z"
    }
   },
   "outputs": [],
   "source": [
    "att_predict_y=att_pipe.predict(df_test_X)"
   ]
  },
  {
   "cell_type": "code",
   "execution_count": 228,
   "metadata": {
    "ExecuteTime": {
     "end_time": "2018-09-21T02:41:29.919808Z",
     "start_time": "2018-09-21T02:41:29.495215Z"
    }
   },
   "outputs": [
    {
     "data": {
      "text/plain": [
       "[<matplotlib.lines.Line2D at 0x7fbfaec53940>]"
      ]
     },
     "execution_count": 228,
     "metadata": {},
     "output_type": "execute_result"
    },
    {
     "data": {
      "image/png": "[encoded data removed]",
      "text/plain": [
       "<Figure size 864x576 with 1 Axes>"
      ]
     },
     "metadata": {},
     "output_type": "display_data"
    }
   ],
   "source": [
    "plt.show()\n",
    "plt.plot(att_predict_y[:3000],(df_test_y.values-att_predict_y)[:3000],'.',markersize=2,linewidth=0.05)"
   ]
  },
  {
   "cell_type": "code",
   "execution_count": 230,
   "metadata": {
    "ExecuteTime": {
     "end_time": "2018-09-21T02:44:47.418284Z",
     "start_time": "2018-09-21T02:44:47.243310Z"
    }
   },
   "outputs": [
    {
     "data": {
      "text/plain": [
       "(array([  35.,  397.,  709., 1989., 4791., 7759., 9753., 7596., 4777.,\n",
       "         132.]),\n",
       " array([-3.3875933 , -2.84761678, -2.30764027, -1.76766376, -1.22768725,\n",
       "        -0.68771074, -0.14773423,  0.39224228,  0.93221879,  1.47219531,\n",
       "         2.01217182]),\n",
       " <a list of 10 Patch objects>)"
      ]
     },
     "execution_count": 230,
     "metadata": {},
     "output_type": "execute_result"
    },
    {
     "data": {
      "image/png": "[encoded data removed]",
      "text/plain": [
       "<Figure size 864x576 with 1 Axes>"
      ]
     },
     "metadata": {},
     "output_type": "display_data"
    }
   ],
   "source": [
    "plt.hist((df_test_y.values-att_predict_y))"
   ]
  },
  {
   "cell_type": "code",
   "execution_count": 58,
   "metadata": {
    "ExecuteTime": {
     "end_time": "2018-09-20T04:12:32.106977Z",
     "start_time": "2018-09-20T04:12:32.103348Z"
    }
   },
   "outputs": [],
   "source": [
    "# class myEstimator(base.BaseEstimator, base.RegressorMixin):\n",
    "#     def __init__(self):\n",
    "#         self.reg=linear_model.LinearRegression()\n",
    "#         self.model2=RandomForestRegressor(max_depth=85,n_estimators=200,min_samples_split=10,max_features='log2')\n",
    "#         #self.model2=svm.SVR()\n",
    "        \n",
    "    \n",
    "#         # initialization code\n",
    "#     def fit(self, X, y):\n",
    "#         self.reg.fit(X,y)\n",
    "#         y_predict=self.reg.predict(X)\n",
    "#         residual=y-y_predict\n",
    "#         #self.RF.fit(X,residual)\n",
    "#         self.model2.fit(X,residual)\n",
    "    \n",
    "#         # fit the model ...\n",
    "#         return self\n",
    "# #     def roundPartial (self, result):\n",
    "# #         return round (result / 0.5) * 0.5\n",
    "#     def predict(self, X):\n",
    "#         reg_y_predict=self.reg.predict(X)\n",
    "#         residual_predict=self.model2.predict(X)\n",
    "#         result=reg_y_predict+residual_predict\n",
    "        \n",
    "#         return list(map(self.roundPartial,result))"
   ]
  },
  {
   "cell_type": "code",
   "execution_count": 59,
   "metadata": {
    "ExecuteTime": {
     "end_time": "2018-09-20T04:13:24.572944Z",
     "start_time": "2018-09-20T04:13:24.568301Z"
    }
   },
   "outputs": [],
   "source": [
    "\n",
    "att_pipe_mod= Pipeline([('att_conv',Att_converter()),\n",
    "                    ('f_align',features_align()),\n",
    "\n",
    "                    #('Reg', linear_model.LinearRegression(n_jobs=10)),\n",
    "                    ('myEst',myEstimator())\n",
    "                     \n",
    "        # ColumnSelectTransformer\n",
    "        # KNeighborsRegressor\n",
    "    ])"
   ]
  },
  {
   "cell_type": "code",
   "execution_count": null,
   "metadata": {
    "ExecuteTime": {
     "end_time": "2018-09-19T18:48:14.825669Z",
     "start_time": "2018-09-19T18:48:14.821847Z"
    }
   },
   "outputs": [],
   "source": [
    "# param_grid=[\n",
    "#     {'myEst_RF':[myEstimator().model2],\n",
    "#     'myEst_RF__max_depth':[2, 10,50,100]}\n",
    "# ]\n",
    "\n",
    "# grid_search_att_mod = GridSearchCV(att_pipe_mod, param_grid=param_grid, cv=10)"
   ]
  },
  {
   "cell_type": "code",
   "execution_count": 62,
   "metadata": {
    "ExecuteTime": {
     "end_time": "2018-09-20T04:14:41.259937Z",
     "start_time": "2018-09-20T04:14:41.257329Z"
    }
   },
   "outputs": [],
   "source": [
    "# grid_search_att_mod.fit(df_X,df_y)"
   ]
  },
  {
   "cell_type": "code",
   "execution_count": null,
   "metadata": {
    "ExecuteTime": {
     "end_time": "2018-09-19T16:54:31.769860Z",
     "start_time": "2018-09-19T16:54:18.726196Z"
    }
   },
   "outputs": [],
   "source": [
    "# att_pipe_mod.fit(df_train_X,df_train_y)"
   ]
  },
  {
   "cell_type": "code",
   "execution_count": 61,
   "metadata": {
    "ExecuteTime": {
     "end_time": "2018-09-20T04:14:41.254937Z",
     "start_time": "2018-09-20T04:14:27.464353Z"
    }
   },
   "outputs": [
    {
     "data": {
      "text/plain": [
       "Pipeline(memory=None,\n",
       "     steps=[('att_conv', Att_converter()), ('f_align', features_align()), ('myEst', myEstimator())])"
      ]
     },
     "execution_count": 61,
     "metadata": {},
     "output_type": "execute_result"
    }
   ],
   "source": [
    "att_pipe_mod.fit(df_X,df_y)"
   ]
  },
  {
   "cell_type": "code",
   "execution_count": null,
   "metadata": {
    "ExecuteTime": {
     "end_time": "2018-09-19T00:50:15.466873Z",
     "start_time": "2018-09-19T00:50:04.679022Z"
    }
   },
   "outputs": [],
   "source": [
    "# att_pipe_mod.score(df_train_X,df_train_y)"
   ]
  },
  {
   "cell_type": "code",
   "execution_count": 118,
   "metadata": {
    "ExecuteTime": {
     "end_time": "2018-09-20T05:17:10.013800Z",
     "start_time": "2018-09-20T05:17:02.443818Z"
    }
   },
   "outputs": [
    {
     "data": {
      "text/plain": [
       "array([3.8970484 , 3.67507689, 3.72119021, ..., 3.68373204, 4.01050015,\n",
       "       3.71615281])"
      ]
     },
     "execution_count": 118,
     "metadata": {},
     "output_type": "execute_result"
    }
   ],
   "source": [
    "att_pipe_mod.predict(df_test_X)"
   ]
  },
  {
   "cell_type": "code",
   "execution_count": null,
   "metadata": {},
   "outputs": [],
   "source": []
  },
  {
   "cell_type": "code",
   "execution_count": 208,
   "metadata": {
    "ExecuteTime": {
     "end_time": "2018-09-21T01:11:29.784050Z",
     "start_time": "2018-09-21T01:11:27.925869Z"
    },
    "scrolled": true
   },
   "outputs": [
    {
     "name": "stdout",
     "output_type": "stream",
     "text": [
      "==================\n",
      "Your score:  0.7940067986566662\n",
      "==================\n"
     ]
    }
   ],
   "source": [
    "grader.score('ml__attribute_model', att_pipe.predict)  # Edit to appropriate name"
   ]
  },
  {
   "cell_type": "code",
   "execution_count": 63,
   "metadata": {
    "ExecuteTime": {
     "end_time": "2018-09-20T04:15:22.550427Z",
     "start_time": "2018-09-20T04:15:21.101167Z"
    },
    "scrolled": true
   },
   "outputs": [
    {
     "name": "stdout",
     "output_type": "stream",
     "text": [
      "==================\n",
      "Your score:  1.0415592549015344\n",
      "==================\n"
     ]
    }
   ],
   "source": [
    "grader.score('ml__attribute_model', att_pipe_mod.predict)  # Edit to appropriate name"
   ]
  },
  {
   "cell_type": "markdown",
   "metadata": {},
   "source": [
    "## full_model"
   ]
  },
  {
   "cell_type": "markdown",
   "metadata": {},
   "source": [
    "So far we have only built models based on individual features.  Now we will build an ensemble regressor that averages together the estimates of the four previous regressors.\n",
    "\n",
    "In order to use the existing models as input to an estimator, we will have to turn them into transformers.  (A pipeline can contain at most a single estimator.)  Build a custom `ModelTransformer` class that takes an estimator as an argument.  When `fit()` is called, the estimator should be fit.  When `transform()` is called, the estimator's `predict()` method should be called, and its results returned.\n",
    "\n",
    "Note that the output of the `transform()` method should be a 2-D array with a single column, in order for it to work well with the Scikit Learn pipeline.  If you're using NumPy arrays, you can use `.reshape(-1, 1)` to create a column vector.  If you are just using Python lists, you will want a list of lists of single elements."
   ]
  },
  {
   "cell_type": "code",
   "execution_count": 135,
   "metadata": {
    "ExecuteTime": {
     "end_time": "2018-09-20T06:06:16.764846Z",
     "start_time": "2018-09-20T06:06:16.759185Z"
    }
   },
   "outputs": [],
   "source": [
    "class EstimatorTransformer(base.BaseEstimator, base.TransformerMixin):\n",
    "    \n",
    "    def __init__(self, estimator):\n",
    "        # What needs to be done here?\n",
    "        self.estimator=estimator\n",
    "    \n",
    "    def fit(self, X, y):\n",
    "        # Fit the stored estimator.\n",
    "        # Question: what should be returned?\n",
    "        self.estimator.fit(X,y)\n",
    "        return self\n",
    "    \n",
    "    def transform(self, X):\n",
    "        # Use predict on the stored estimator as a \"transformation\".\n",
    "        # Be sure to return a 2-D array.\n",
    "        results=self.estimator.predict(X)\n",
    "        if isinstance(results,list):\n",
    "            return [[i] for i in results]\n",
    "        if isinstance(results,np.ndarray):\n",
    "            return results.reshape(-1, 1)\n",
    "            \n",
    "        "
   ]
  },
  {
   "cell_type": "markdown",
   "metadata": {},
   "source": [
    "This should work as follows:"
   ]
  },
  {
   "cell_type": "code",
   "execution_count": 88,
   "metadata": {
    "ExecuteTime": {
     "end_time": "2018-09-20T04:35:27.878749Z",
     "start_time": "2018-09-20T04:35:27.860118Z"
    }
   },
   "outputs": [],
   "source": [
    "city_trans = EstimatorTransformer(city_est)\n",
    "city_trans.fit(df_X, df_y)\n"
   ]
  },
  {
   "cell_type": "code",
   "execution_count": 89,
   "metadata": {
    "ExecuteTime": {
     "end_time": "2018-09-20T04:35:29.589307Z",
     "start_time": "2018-09-20T04:35:29.582488Z"
    }
   },
   "outputs": [
    {
     "data": {
      "text/plain": [
       "[[3.6702903946388683], [3.75], [3.75], [3.75], [3.75]]"
      ]
     },
     "execution_count": 89,
     "metadata": {},
     "output_type": "execute_result"
    }
   ],
   "source": [
    "city_trans.transform(data[:5])"
   ]
  },
  {
   "cell_type": "code",
   "execution_count": 90,
   "metadata": {
    "ExecuteTime": {
     "end_time": "2018-09-20T04:35:31.990679Z",
     "start_time": "2018-09-20T04:35:31.983156Z"
    }
   },
   "outputs": [],
   "source": [
    "assert ([r[0] for r in city_trans.transform(data[:5])]\n",
    "        == city_est.predict(data[:5]))"
   ]
  },
  {
   "cell_type": "code",
   "execution_count": 99,
   "metadata": {
    "ExecuteTime": {
     "end_time": "2018-09-20T04:43:59.960136Z",
     "start_time": "2018-09-20T04:43:59.957035Z"
    }
   },
   "outputs": [],
   "source": [
    "nbr_trans=EstimatorTransformer(KNeighborsRegressor(n_neighbors=100))"
   ]
  },
  {
   "cell_type": "code",
   "execution_count": 100,
   "metadata": {
    "ExecuteTime": {
     "end_time": "2018-09-20T04:44:00.769015Z",
     "start_time": "2018-09-20T04:44:00.740953Z"
    }
   },
   "outputs": [],
   "source": [
    "nbr_trans.fit(df_X[['latitude', 'longitude']],df_y)"
   ]
  },
  {
   "cell_type": "code",
   "execution_count": 105,
   "metadata": {
    "ExecuteTime": {
     "end_time": "2018-09-20T04:44:34.042622Z",
     "start_time": "2018-09-20T04:44:34.037318Z"
    }
   },
   "outputs": [],
   "source": [
    "b=nbr_trans.transform(df_X[['latitude', 'longitude']][:5])"
   ]
  },
  {
   "cell_type": "code",
   "execution_count": 106,
   "metadata": {
    "ExecuteTime": {
     "end_time": "2018-09-20T04:44:34.794927Z",
     "start_time": "2018-09-20T04:44:34.789527Z"
    }
   },
   "outputs": [
    {
     "data": {
      "text/plain": [
       "array([[3.9  ],\n",
       "       [3.415],\n",
       "       [3.555],\n",
       "       [3.605],\n",
       "       [3.545]])"
      ]
     },
     "execution_count": 106,
     "metadata": {},
     "output_type": "execute_result"
    }
   ],
   "source": [
    "b "
   ]
  },
  {
   "cell_type": "markdown",
   "metadata": {},
   "source": [
    "Create an instance of `ModelTransformer` for each of the previous four models. Combine these together in a single feature matrix with a\n",
    "[`FeatureUnion`](http://scikit-learn.org/stable/modules/generated/sklearn.pipeline.FeatureUnion.html#sklearn.pipeline.FeatureUnion)."
   ]
  },
  {
   "cell_type": "code",
   "execution_count": null,
   "metadata": {},
   "outputs": [],
   "source": [
    "cat_pipe_mod = Pipeline([('cst',ColumnSelectTransformer(['categories'])),\n",
    "                     ('DictEn',DictEncoder()),\n",
    "                     ('DictVec',DictVectorizer(sparse=False)),\n",
    "                     ('TfidTransform',text.TfidfTransformer()),\n",
    "                     ('Ridge', linear_model.Ridge(alpha = 1))\n",
    "    ])"
   ]
  },
  {
   "cell_type": "code",
   "execution_count": null,
   "metadata": {},
   "outputs": [],
   "source": [
    "\n",
    "att_pipe_mod= Pipeline([('att_conv',Att_converter()),\n",
    "                    ('f_align',features_align()),\n",
    "\n",
    "                    #('Reg', linear_model.LinearRegression(n_jobs=10)),\n",
    "                    ('myEst',myEstimator())\n",
    "                     \n",
    "        # ColumnSelectTransformer\n",
    "        # KNeighborsRegressor\n",
    "    ])"
   ]
  },
  {
   "cell_type": "code",
   "execution_count": 136,
   "metadata": {
    "ExecuteTime": {
     "end_time": "2018-09-20T06:06:27.705816Z",
     "start_time": "2018-09-20T06:06:27.691601Z"
    }
   },
   "outputs": [],
   "source": [
    "from sklearn.pipeline import FeatureUnion\n",
    "\n",
    "union = FeatureUnion([\n",
    "        ('city',Pipeline([\n",
    "            ('city_est',EstimatorTransformer(city_est))\n",
    "        ])\n",
    "        ),\n",
    "        ('nbr',Pipeline([\n",
    "            ('cst',ColumnSelectTransformer(['latitude', 'longitude'])),\n",
    "            ('knn',EstimatorTransformer(KNeighborsRegressor(n_neighbors=100)))\n",
    "        ])\n",
    "        ),\n",
    "        ('cat',Pipeline([\n",
    "            ('cst',ColumnSelectTransformer(['categories'])),\n",
    "            ('DictEn',DictEncoder()),\n",
    "            ('DictVec',DictVectorizer(sparse=False)),\n",
    "            ('TfidTransform',text.TfidfTransformer()),\n",
    "            ('Ridge', EstimatorTransformer(linear_model.Ridge(alpha = 1)))\n",
    "        ]),\n",
    "        ),\n",
    "        ('att',Pipeline([\n",
    "            ('att_conv',Att_converter()),\n",
    "            ('f_align',features_align()),\n",
    "            ('myEst',EstimatorTransformer(myEstimator()))\n",
    "        ]),\n",
    "        )\n",
    "        ])"
   ]
  },
  {
   "cell_type": "markdown",
   "metadata": {},
   "source": [
    "This should return a feature matrix with four columns."
   ]
  },
  {
   "cell_type": "code",
   "execution_count": null,
   "metadata": {},
   "outputs": [],
   "source": [
    "class All_converter(base.BaseEstimator, base.TransformerMixin):\n",
    "    \n",
    "    def fit(self, X, y=None):\n",
    "        return self\n",
    "    \n",
    "    def _cat_transform(self,X):\n",
    "        DictEncoder(X.ca)\n",
    "        \n",
    "        return pd.get_dummies(new_data)\n",
    "    \n",
    "    def _drop_zero_columns(self,data):\n",
    "        alist=[i  for i in data.columns.tolist() if i[-2:] == \"_0\"]\n",
    "        return data.drop(alist,axis=1)\n",
    "    \n",
    "    def transform(self, X):\n",
    "        if not isinstance(X, pd.DataFrame):\n",
    "            X=pd.DataFrame(X)\n",
    "        new_data=self._transform(X.attributes)\n",
    "        #clean_data= self._drop_zero_columns(new_data)\n",
    "        \n",
    "        return new_data"
   ]
  },
  {
   "cell_type": "code",
   "execution_count": 181,
   "metadata": {
    "ExecuteTime": {
     "end_time": "2018-09-20T18:14:38.986631Z",
     "start_time": "2018-09-20T18:14:38.894186Z"
    }
   },
   "outputs": [
    {
     "data": {
      "text/html": [
       "<div>\n",
       "<style scoped>\n",
       "    .dataframe tbody tr th:only-of-type {\n",
       "        vertical-align: middle;\n",
       "    }\n",
       "\n",
       "    .dataframe tbody tr th {\n",
       "        vertical-align: top;\n",
       "    }\n",
       "\n",
       "    .dataframe thead th {\n",
       "        text-align: right;\n",
       "    }\n",
       "</style>\n",
       "<table border=\"1\" class=\"dataframe\">\n",
       "  <thead>\n",
       "    <tr style=\"text-align: right;\">\n",
       "      <th></th>\n",
       "      <th>city</th>\n",
       "      <th>latitude</th>\n",
       "      <th>longitude</th>\n",
       "      <th>categories</th>\n",
       "      <th>attributes</th>\n",
       "    </tr>\n",
       "  </thead>\n",
       "  <tbody>\n",
       "    <tr>\n",
       "      <th>0</th>\n",
       "      <td>Phoenix</td>\n",
       "      <td>33.499313</td>\n",
       "      <td>-111.983758</td>\n",
       "      <td>[Doctors, Health &amp; Medical]</td>\n",
       "      <td>{'By Appointment Only': True}</td>\n",
       "    </tr>\n",
       "    <tr>\n",
       "      <th>1</th>\n",
       "      <td>De Forest</td>\n",
       "      <td>43.238893</td>\n",
       "      <td>-89.335844</td>\n",
       "      <td>[Restaurants]</td>\n",
       "      <td>{'Take-out': True, 'Good For': {'dessert': Fal...</td>\n",
       "    </tr>\n",
       "    <tr>\n",
       "      <th>2</th>\n",
       "      <td>De Forest</td>\n",
       "      <td>43.252267</td>\n",
       "      <td>-89.353437</td>\n",
       "      <td>[American (Traditional), Restaurants]</td>\n",
       "      <td>{'Take-out': True, 'Good For': {'dessert': Fal...</td>\n",
       "    </tr>\n",
       "    <tr>\n",
       "      <th>3</th>\n",
       "      <td>De Forest</td>\n",
       "      <td>43.251045</td>\n",
       "      <td>-89.374983</td>\n",
       "      <td>[Food, Ice Cream &amp; Frozen Yogurt, Fast Food, R...</td>\n",
       "      <td>{'Take-out': True, 'Wi-Fi': 'free', 'Takes Res...</td>\n",
       "    </tr>\n",
       "    <tr>\n",
       "      <th>4</th>\n",
       "      <td>De Forest</td>\n",
       "      <td>43.240875</td>\n",
       "      <td>-89.343722</td>\n",
       "      <td>[Chinese, Restaurants]</td>\n",
       "      <td>{'Take-out': True, 'Has TV': False, 'Outdoor S...</td>\n",
       "    </tr>\n",
       "    <tr>\n",
       "      <th>5</th>\n",
       "      <td>Mc Farland</td>\n",
       "      <td>42.968507</td>\n",
       "      <td>-89.322920</td>\n",
       "      <td>[Television Stations, Mass Media]</td>\n",
       "      <td>{}</td>\n",
       "    </tr>\n",
       "    <tr>\n",
       "      <th>6</th>\n",
       "      <td>Mc Farland</td>\n",
       "      <td>43.030356</td>\n",
       "      <td>-89.298544</td>\n",
       "      <td>[Home Services, Heating &amp; Air Conditioning/HVAC]</td>\n",
       "      <td>{}</td>\n",
       "    </tr>\n",
       "    <tr>\n",
       "      <th>7</th>\n",
       "      <td>Mc Farland</td>\n",
       "      <td>43.014093</td>\n",
       "      <td>-89.294175</td>\n",
       "      <td>[Libraries, Public Services &amp; Government]</td>\n",
       "      <td>{'Wi-Fi': 'free'}</td>\n",
       "    </tr>\n",
       "    <tr>\n",
       "      <th>8</th>\n",
       "      <td>Mc Farland</td>\n",
       "      <td>43.017124</td>\n",
       "      <td>-89.299119</td>\n",
       "      <td>[Veterinarians, Pets]</td>\n",
       "      <td>{}</td>\n",
       "    </tr>\n",
       "    <tr>\n",
       "      <th>9</th>\n",
       "      <td>Mc Farland</td>\n",
       "      <td>43.017701</td>\n",
       "      <td>-89.303789</td>\n",
       "      <td>[Bars, American (Traditional), Nightlife, Loun...</td>\n",
       "      <td>{'Alcohol': 'full_bar', 'Noise Level': 'loud',...</td>\n",
       "    </tr>\n",
       "    <tr>\n",
       "      <th>10</th>\n",
       "      <td>Mc Farland</td>\n",
       "      <td>43.015931</td>\n",
       "      <td>-89.285206</td>\n",
       "      <td>[Hotels &amp; Travel, Bed &amp; Breakfast, Event Plann...</td>\n",
       "      <td>{'Accepts Credit Cards': True, 'Wi-Fi': 'free'...</td>\n",
       "    </tr>\n",
       "    <tr>\n",
       "      <th>11</th>\n",
       "      <td>Mc Farland</td>\n",
       "      <td>43.013156</td>\n",
       "      <td>-89.302164</td>\n",
       "      <td>[Active Life, Bowling]</td>\n",
       "      <td>{'Good for Kids': True}</td>\n",
       "    </tr>\n",
       "    <tr>\n",
       "      <th>12</th>\n",
       "      <td>Mc Farland</td>\n",
       "      <td>43.014164</td>\n",
       "      <td>-89.288567</td>\n",
       "      <td>[Pizza, Restaurants]</td>\n",
       "      <td>{'Take-out': True, 'Good For': {'dessert': Fal...</td>\n",
       "    </tr>\n",
       "    <tr>\n",
       "      <th>13</th>\n",
       "      <td>Mc Farland</td>\n",
       "      <td>43.017939</td>\n",
       "      <td>-89.298628</td>\n",
       "      <td>[Chinese, Restaurants]</td>\n",
       "      <td>{'Take-out': True, 'Wi-Fi': 'no', 'Good For': ...</td>\n",
       "    </tr>\n",
       "    <tr>\n",
       "      <th>14</th>\n",
       "      <td>Middleton</td>\n",
       "      <td>43.093265</td>\n",
       "      <td>-89.491800</td>\n",
       "      <td>[Event Planning &amp; Services, Party &amp; Event Plan...</td>\n",
       "      <td>{'Take-out': True, 'Caters': True, 'Attire': '...</td>\n",
       "    </tr>\n",
       "    <tr>\n",
       "      <th>15</th>\n",
       "      <td>Middleton</td>\n",
       "      <td>43.090642</td>\n",
       "      <td>-89.485169</td>\n",
       "      <td>[Party &amp; Event Planning, Asian Fusion, Event P...</td>\n",
       "      <td>{'Take-out': True, 'Good For': {'dessert': Fal...</td>\n",
       "    </tr>\n",
       "    <tr>\n",
       "      <th>16</th>\n",
       "      <td>Middleton</td>\n",
       "      <td>43.091061</td>\n",
       "      <td>-89.487487</td>\n",
       "      <td>[Mexican, Restaurants]</td>\n",
       "      <td>{'Take-out': True, 'Wi-Fi': 'no', 'Good For': ...</td>\n",
       "    </tr>\n",
       "    <tr>\n",
       "      <th>17</th>\n",
       "      <td>Middleton</td>\n",
       "      <td>43.110157</td>\n",
       "      <td>-89.526428</td>\n",
       "      <td>[Active Life, Arts &amp; Entertainment, Stadiums &amp;...</td>\n",
       "      <td>{'Good for Kids': True}</td>\n",
       "    </tr>\n",
       "    <tr>\n",
       "      <th>18</th>\n",
       "      <td>Middleton</td>\n",
       "      <td>43.077415</td>\n",
       "      <td>-89.527273</td>\n",
       "      <td>[Pet Services, Pets]</td>\n",
       "      <td>{'Accepts Credit Cards': True, 'Price Range': 2}</td>\n",
       "    </tr>\n",
       "    <tr>\n",
       "      <th>19</th>\n",
       "      <td>Middleton</td>\n",
       "      <td>43.096271</td>\n",
       "      <td>-89.516038</td>\n",
       "      <td>[Hotels &amp; Travel, Event Planning &amp; Services, V...</td>\n",
       "      <td>{'Accepts Credit Cards': True, 'Wi-Fi': 'free'...</td>\n",
       "    </tr>\n",
       "    <tr>\n",
       "      <th>20</th>\n",
       "      <td>Middleton</td>\n",
       "      <td>43.103072</td>\n",
       "      <td>-89.486082</td>\n",
       "      <td>[Pilates, Yoga, Weight Loss Centers, Health &amp; ...</td>\n",
       "      <td>{'By Appointment Only': False, 'Good for Kids'...</td>\n",
       "    </tr>\n",
       "    <tr>\n",
       "      <th>21</th>\n",
       "      <td>Middleton</td>\n",
       "      <td>43.100384</td>\n",
       "      <td>-89.486219</td>\n",
       "      <td>[Sandwiches, Pizza, Chicken Wings, Restaurants]</td>\n",
       "      <td>{'Take-out': True, 'Takes Reservations': False...</td>\n",
       "    </tr>\n",
       "    <tr>\n",
       "      <th>22</th>\n",
       "      <td>Middleton</td>\n",
       "      <td>43.095498</td>\n",
       "      <td>-89.523525</td>\n",
       "      <td>[Shopping, Arts &amp; Crafts, Event Planning &amp; Ser...</td>\n",
       "      <td>{'Parking': {'garage': False, 'street': False,...</td>\n",
       "    </tr>\n",
       "    <tr>\n",
       "      <th>23</th>\n",
       "      <td>Middleton</td>\n",
       "      <td>43.092903</td>\n",
       "      <td>-89.527703</td>\n",
       "      <td>[Arts &amp; Crafts, Shopping, Knitting Supplies, H...</td>\n",
       "      <td>{'Parking': {'garage': False, 'street': True, ...</td>\n",
       "    </tr>\n",
       "    <tr>\n",
       "      <th>24</th>\n",
       "      <td>Middleton</td>\n",
       "      <td>43.091816</td>\n",
       "      <td>-89.528450</td>\n",
       "      <td>[Women's Clothing, Shopping Centers, Fashion, ...</td>\n",
       "      <td>{'Parking': {'garage': False, 'street': True, ...</td>\n",
       "    </tr>\n",
       "    <tr>\n",
       "      <th>25</th>\n",
       "      <td>Middleton</td>\n",
       "      <td>43.096359</td>\n",
       "      <td>-89.513737</td>\n",
       "      <td>[Food, Beer, Wine &amp; Spirits, Coffee &amp; Tea]</td>\n",
       "      <td>{'Wi-Fi': 'free', 'Price Range': 1, 'Outdoor S...</td>\n",
       "    </tr>\n",
       "    <tr>\n",
       "      <th>26</th>\n",
       "      <td>Middleton</td>\n",
       "      <td>43.107227</td>\n",
       "      <td>-89.496995</td>\n",
       "      <td>[Bakeries, Food, Breakfast &amp; Brunch, Coffee &amp; ...</td>\n",
       "      <td>{'Take-out': True, 'Wi-Fi': 'free', 'Good For'...</td>\n",
       "    </tr>\n",
       "    <tr>\n",
       "      <th>27</th>\n",
       "      <td>Middleton</td>\n",
       "      <td>43.101460</td>\n",
       "      <td>-89.511162</td>\n",
       "      <td>[Bars, American (New), Nightlife, Restaurants]</td>\n",
       "      <td>{'Good For': {'dessert': False, 'latenight': F...</td>\n",
       "    </tr>\n",
       "    <tr>\n",
       "      <th>28</th>\n",
       "      <td>Middleton</td>\n",
       "      <td>43.075345</td>\n",
       "      <td>-89.528480</td>\n",
       "      <td>[Chinese, Restaurants]</td>\n",
       "      <td>{'Take-out': True, 'Good For': {'dessert': Fal...</td>\n",
       "    </tr>\n",
       "    <tr>\n",
       "      <th>29</th>\n",
       "      <td>Middleton</td>\n",
       "      <td>43.103663</td>\n",
       "      <td>-89.486491</td>\n",
       "      <td>[Chinese, Restaurants]</td>\n",
       "      <td>{'Take-out': True, 'Takes Reservations': False...</td>\n",
       "    </tr>\n",
       "    <tr>\n",
       "      <th>...</th>\n",
       "      <td>...</td>\n",
       "      <td>...</td>\n",
       "      <td>...</td>\n",
       "      <td>...</td>\n",
       "      <td>...</td>\n",
       "    </tr>\n",
       "    <tr>\n",
       "      <th>37908</th>\n",
       "      <td>Las Vegas</td>\n",
       "      <td>36.159549</td>\n",
       "      <td>-115.245389</td>\n",
       "      <td>[Local Services, Data Recovery, Mobile Phone R...</td>\n",
       "      <td>{'Accepts Credit Cards': True}</td>\n",
       "    </tr>\n",
       "    <tr>\n",
       "      <th>37909</th>\n",
       "      <td>Madison</td>\n",
       "      <td>43.075200</td>\n",
       "      <td>-89.385835</td>\n",
       "      <td>[Steakhouses, Restaurants]</td>\n",
       "      <td>{'Take-out': False, 'Good For': {'dessert': Fa...</td>\n",
       "    </tr>\n",
       "    <tr>\n",
       "      <th>37910</th>\n",
       "      <td>Gilbert</td>\n",
       "      <td>33.308632</td>\n",
       "      <td>-111.746902</td>\n",
       "      <td>[Shopping, Home &amp; Garden, Furniture Stores]</td>\n",
       "      <td>{'Accepts Credit Cards': True, 'Price Range': 2}</td>\n",
       "    </tr>\n",
       "    <tr>\n",
       "      <th>37911</th>\n",
       "      <td>Sun Prairie</td>\n",
       "      <td>43.166396</td>\n",
       "      <td>-89.270095</td>\n",
       "      <td>[American (New), Comfort Food, Restaurants]</td>\n",
       "      <td>{'Take-out': True, 'Good For': {'dessert': Fal...</td>\n",
       "    </tr>\n",
       "    <tr>\n",
       "      <th>37912</th>\n",
       "      <td>Las Vegas</td>\n",
       "      <td>36.121936</td>\n",
       "      <td>-115.344752</td>\n",
       "      <td>[Arts &amp; Entertainment, Performing Arts]</td>\n",
       "      <td>{}</td>\n",
       "    </tr>\n",
       "    <tr>\n",
       "      <th>37913</th>\n",
       "      <td>Edinburgh</td>\n",
       "      <td>55.964986</td>\n",
       "      <td>-3.176367</td>\n",
       "      <td>[Tapas Bars, Restaurants]</td>\n",
       "      <td>{'Has TV': False, 'Good For Groups': True, 'Ou...</td>\n",
       "    </tr>\n",
       "    <tr>\n",
       "      <th>37914</th>\n",
       "      <td>Phoenix</td>\n",
       "      <td>33.454960</td>\n",
       "      <td>-112.087116</td>\n",
       "      <td>[Pizza, Restaurants]</td>\n",
       "      <td>{'Take-out': True, 'Good For': {'dessert': Fal...</td>\n",
       "    </tr>\n",
       "    <tr>\n",
       "      <th>37915</th>\n",
       "      <td>Waterloo</td>\n",
       "      <td>43.477274</td>\n",
       "      <td>-80.525499</td>\n",
       "      <td>[Food, Tea Rooms, Coffee &amp; Tea, Asian Fusion, ...</td>\n",
       "      <td>{'Take-out': True, 'Wi-Fi': 'free', 'Good For'...</td>\n",
       "    </tr>\n",
       "    <tr>\n",
       "      <th>37916</th>\n",
       "      <td>Scottsdale</td>\n",
       "      <td>33.462616</td>\n",
       "      <td>-111.926974</td>\n",
       "      <td>[Used, Vintage &amp; Consignment, Fashion, Shopping]</td>\n",
       "      <td>{'Parking': {'garage': False, 'street': False,...</td>\n",
       "    </tr>\n",
       "    <tr>\n",
       "      <th>37917</th>\n",
       "      <td>Queen Creek</td>\n",
       "      <td>33.241852</td>\n",
       "      <td>-111.634005</td>\n",
       "      <td>[Cafes, Restaurants]</td>\n",
       "      <td>{'Take-out': True, 'Wi-Fi': 'free', 'Good For'...</td>\n",
       "    </tr>\n",
       "    <tr>\n",
       "      <th>37918</th>\n",
       "      <td>Phoenix</td>\n",
       "      <td>33.464409</td>\n",
       "      <td>-112.064650</td>\n",
       "      <td>[Movers, Home Services]</td>\n",
       "      <td>{'Accepts Credit Cards': True}</td>\n",
       "    </tr>\n",
       "    <tr>\n",
       "      <th>37919</th>\n",
       "      <td>Henderson</td>\n",
       "      <td>36.003386</td>\n",
       "      <td>-115.110455</td>\n",
       "      <td>[Bakeries, Food]</td>\n",
       "      <td>{'Parking': {'garage': False, 'street': False,...</td>\n",
       "    </tr>\n",
       "    <tr>\n",
       "      <th>37920</th>\n",
       "      <td>Queen Creek</td>\n",
       "      <td>33.248664</td>\n",
       "      <td>-111.634299</td>\n",
       "      <td>[Handyman, Home Services]</td>\n",
       "      <td>{'Accepts Credit Cards': True}</td>\n",
       "    </tr>\n",
       "    <tr>\n",
       "      <th>37921</th>\n",
       "      <td>Avondale</td>\n",
       "      <td>33.460467</td>\n",
       "      <td>-112.336565</td>\n",
       "      <td>[Food, Shaved Ice]</td>\n",
       "      <td>{'Parking': {'garage': False, 'street': False,...</td>\n",
       "    </tr>\n",
       "    <tr>\n",
       "      <th>37922</th>\n",
       "      <td>Las Vegas</td>\n",
       "      <td>36.121962</td>\n",
       "      <td>-115.314146</td>\n",
       "      <td>[Food, Specialty Food]</td>\n",
       "      <td>{'Parking': {'garage': False, 'street': False,...</td>\n",
       "    </tr>\n",
       "    <tr>\n",
       "      <th>37923</th>\n",
       "      <td>Scottsdale</td>\n",
       "      <td>33.499192</td>\n",
       "      <td>-111.917816</td>\n",
       "      <td>[Sushi Bars, Restaurants]</td>\n",
       "      <td>{'Take-out': True, 'Good For': {'dessert': Fal...</td>\n",
       "    </tr>\n",
       "    <tr>\n",
       "      <th>37924</th>\n",
       "      <td>Las Vegas</td>\n",
       "      <td>36.129992</td>\n",
       "      <td>-115.207404</td>\n",
       "      <td>[Vietnamese, Restaurants]</td>\n",
       "      <td>{'Take-out': True, 'Wi-Fi': 'no', 'Good For': ...</td>\n",
       "    </tr>\n",
       "    <tr>\n",
       "      <th>37925</th>\n",
       "      <td>Las Vegas</td>\n",
       "      <td>36.083335</td>\n",
       "      <td>-115.099975</td>\n",
       "      <td>[Food, Desserts, Cupcakes, Bakeries]</td>\n",
       "      <td>{'Accepts Credit Cards': True, 'Price Range': 2}</td>\n",
       "    </tr>\n",
       "    <tr>\n",
       "      <th>37926</th>\n",
       "      <td>Las Vegas</td>\n",
       "      <td>36.114987</td>\n",
       "      <td>-115.241094</td>\n",
       "      <td>[Filipino, Restaurants]</td>\n",
       "      <td>{'Take-out': True, 'Good For': {'dessert': Fal...</td>\n",
       "    </tr>\n",
       "    <tr>\n",
       "      <th>37927</th>\n",
       "      <td>Henderson</td>\n",
       "      <td>36.070909</td>\n",
       "      <td>-115.024682</td>\n",
       "      <td>[Active Life, Amusement Parks]</td>\n",
       "      <td>{'Good for Kids': True}</td>\n",
       "    </tr>\n",
       "    <tr>\n",
       "      <th>37928</th>\n",
       "      <td>Edinburgh</td>\n",
       "      <td>55.957536</td>\n",
       "      <td>-3.188413</td>\n",
       "      <td>[Burgers, Restaurants]</td>\n",
       "      <td>{'Take-out': False, 'Wi-Fi': 'free', 'Drive-Th...</td>\n",
       "    </tr>\n",
       "    <tr>\n",
       "      <th>37929</th>\n",
       "      <td>Las Vegas</td>\n",
       "      <td>36.158604</td>\n",
       "      <td>-115.236715</td>\n",
       "      <td>[Chicken Wings, Restaurants]</td>\n",
       "      <td>{'Take-out': True, 'Wi-Fi': 'free', 'Good For'...</td>\n",
       "    </tr>\n",
       "    <tr>\n",
       "      <th>37930</th>\n",
       "      <td>Henderson</td>\n",
       "      <td>36.022463</td>\n",
       "      <td>-115.083362</td>\n",
       "      <td>[American (New), Restaurants]</td>\n",
       "      <td>{'Take-out': True, 'Good For': {'dessert': Fal...</td>\n",
       "    </tr>\n",
       "    <tr>\n",
       "      <th>37931</th>\n",
       "      <td>Henderson</td>\n",
       "      <td>36.028049</td>\n",
       "      <td>-115.048825</td>\n",
       "      <td>[Food, Juice Bars &amp; Smoothies, American (New),...</td>\n",
       "      <td>{'Take-out': True, 'Wi-Fi': 'free', 'Good For'...</td>\n",
       "    </tr>\n",
       "    <tr>\n",
       "      <th>37932</th>\n",
       "      <td>Las Vegas</td>\n",
       "      <td>36.143397</td>\n",
       "      <td>-115.241975</td>\n",
       "      <td>[Bars, Turkish, Mediterranean, Nightlife, Loun...</td>\n",
       "      <td>{'Alcohol': 'full_bar', 'Noise Level': 'quiet'...</td>\n",
       "    </tr>\n",
       "    <tr>\n",
       "      <th>37933</th>\n",
       "      <td>Glendale</td>\n",
       "      <td>33.610822</td>\n",
       "      <td>-112.152529</td>\n",
       "      <td>[Bars, Hookah Bars, Nightlife, Lounges]</td>\n",
       "      <td>{'Alcohol': 'none', 'Good For Dancing': True, ...</td>\n",
       "    </tr>\n",
       "    <tr>\n",
       "      <th>37934</th>\n",
       "      <td>Madison</td>\n",
       "      <td>43.073871</td>\n",
       "      <td>-89.382842</td>\n",
       "      <td>[Active Life, Barre Classes, Pilates, Fitness ...</td>\n",
       "      <td>{}</td>\n",
       "    </tr>\n",
       "    <tr>\n",
       "      <th>37935</th>\n",
       "      <td>Phoenix</td>\n",
       "      <td>33.457106</td>\n",
       "      <td>-112.071074</td>\n",
       "      <td>[Yelp Events, Local Flavor]</td>\n",
       "      <td>{'Good for Kids': False}</td>\n",
       "    </tr>\n",
       "    <tr>\n",
       "      <th>37936</th>\n",
       "      <td>Phoenix</td>\n",
       "      <td>33.531310</td>\n",
       "      <td>-112.064508</td>\n",
       "      <td>[Kosher, Italian, Pizza, Restaurants]</td>\n",
       "      <td>{'Take-out': True, 'Wi-Fi': 'no', 'Good For': ...</td>\n",
       "    </tr>\n",
       "    <tr>\n",
       "      <th>37937</th>\n",
       "      <td>Edinburgh</td>\n",
       "      <td>55.944170</td>\n",
       "      <td>-3.202529</td>\n",
       "      <td>[Food, Ethnic Food, Grocery, Specialty Food]</td>\n",
       "      <td>{'Parking': {'garage': False, 'street': False,...</td>\n",
       "    </tr>\n",
       "  </tbody>\n",
       "</table>\n",
       "<p>37938 rows × 5 columns</p>\n",
       "</div>"
      ],
      "text/plain": [
       "              city   latitude   longitude  \\\n",
       "0          Phoenix  33.499313 -111.983758   \n",
       "1        De Forest  43.238893  -89.335844   \n",
       "2        De Forest  43.252267  -89.353437   \n",
       "3        De Forest  43.251045  -89.374983   \n",
       "4        De Forest  43.240875  -89.343722   \n",
       "5       Mc Farland  42.968507  -89.322920   \n",
       "6       Mc Farland  43.030356  -89.298544   \n",
       "7       Mc Farland  43.014093  -89.294175   \n",
       "8       Mc Farland  43.017124  -89.299119   \n",
       "9       Mc Farland  43.017701  -89.303789   \n",
       "10      Mc Farland  43.015931  -89.285206   \n",
       "11      Mc Farland  43.013156  -89.302164   \n",
       "12      Mc Farland  43.014164  -89.288567   \n",
       "13      Mc Farland  43.017939  -89.298628   \n",
       "14       Middleton  43.093265  -89.491800   \n",
       "15       Middleton  43.090642  -89.485169   \n",
       "16       Middleton  43.091061  -89.487487   \n",
       "17       Middleton  43.110157  -89.526428   \n",
       "18       Middleton  43.077415  -89.527273   \n",
       "19       Middleton  43.096271  -89.516038   \n",
       "20       Middleton  43.103072  -89.486082   \n",
       "21       Middleton  43.100384  -89.486219   \n",
       "22       Middleton  43.095498  -89.523525   \n",
       "23       Middleton  43.092903  -89.527703   \n",
       "24       Middleton  43.091816  -89.528450   \n",
       "25       Middleton  43.096359  -89.513737   \n",
       "26       Middleton  43.107227  -89.496995   \n",
       "27       Middleton  43.101460  -89.511162   \n",
       "28       Middleton  43.075345  -89.528480   \n",
       "29       Middleton  43.103663  -89.486491   \n",
       "...            ...        ...         ...   \n",
       "37908    Las Vegas  36.159549 -115.245389   \n",
       "37909      Madison  43.075200  -89.385835   \n",
       "37910      Gilbert  33.308632 -111.746902   \n",
       "37911  Sun Prairie  43.166396  -89.270095   \n",
       "37912    Las Vegas  36.121936 -115.344752   \n",
       "37913    Edinburgh  55.964986   -3.176367   \n",
       "37914      Phoenix  33.454960 -112.087116   \n",
       "37915     Waterloo  43.477274  -80.525499   \n",
       "37916   Scottsdale  33.462616 -111.926974   \n",
       "37917  Queen Creek  33.241852 -111.634005   \n",
       "37918      Phoenix  33.464409 -112.064650   \n",
       "37919    Henderson  36.003386 -115.110455   \n",
       "37920  Queen Creek  33.248664 -111.634299   \n",
       "37921     Avondale  33.460467 -112.336565   \n",
       "37922    Las Vegas  36.121962 -115.314146   \n",
       "37923   Scottsdale  33.499192 -111.917816   \n",
       "37924    Las Vegas  36.129992 -115.207404   \n",
       "37925    Las Vegas  36.083335 -115.099975   \n",
       "37926    Las Vegas  36.114987 -115.241094   \n",
       "37927    Henderson  36.070909 -115.024682   \n",
       "37928    Edinburgh  55.957536   -3.188413   \n",
       "37929    Las Vegas  36.158604 -115.236715   \n",
       "37930    Henderson  36.022463 -115.083362   \n",
       "37931    Henderson  36.028049 -115.048825   \n",
       "37932    Las Vegas  36.143397 -115.241975   \n",
       "37933     Glendale  33.610822 -112.152529   \n",
       "37934      Madison  43.073871  -89.382842   \n",
       "37935      Phoenix  33.457106 -112.071074   \n",
       "37936      Phoenix  33.531310 -112.064508   \n",
       "37937    Edinburgh  55.944170   -3.202529   \n",
       "\n",
       "                                              categories  \\\n",
       "0                            [Doctors, Health & Medical]   \n",
       "1                                          [Restaurants]   \n",
       "2                  [American (Traditional), Restaurants]   \n",
       "3      [Food, Ice Cream & Frozen Yogurt, Fast Food, R...   \n",
       "4                                 [Chinese, Restaurants]   \n",
       "5                      [Television Stations, Mass Media]   \n",
       "6       [Home Services, Heating & Air Conditioning/HVAC]   \n",
       "7              [Libraries, Public Services & Government]   \n",
       "8                                  [Veterinarians, Pets]   \n",
       "9      [Bars, American (Traditional), Nightlife, Loun...   \n",
       "10     [Hotels & Travel, Bed & Breakfast, Event Plann...   \n",
       "11                                [Active Life, Bowling]   \n",
       "12                                  [Pizza, Restaurants]   \n",
       "13                                [Chinese, Restaurants]   \n",
       "14     [Event Planning & Services, Party & Event Plan...   \n",
       "15     [Party & Event Planning, Asian Fusion, Event P...   \n",
       "16                                [Mexican, Restaurants]   \n",
       "17     [Active Life, Arts & Entertainment, Stadiums &...   \n",
       "18                                  [Pet Services, Pets]   \n",
       "19     [Hotels & Travel, Event Planning & Services, V...   \n",
       "20     [Pilates, Yoga, Weight Loss Centers, Health & ...   \n",
       "21       [Sandwiches, Pizza, Chicken Wings, Restaurants]   \n",
       "22     [Shopping, Arts & Crafts, Event Planning & Ser...   \n",
       "23     [Arts & Crafts, Shopping, Knitting Supplies, H...   \n",
       "24     [Women's Clothing, Shopping Centers, Fashion, ...   \n",
       "25            [Food, Beer, Wine & Spirits, Coffee & Tea]   \n",
       "26     [Bakeries, Food, Breakfast & Brunch, Coffee & ...   \n",
       "27        [Bars, American (New), Nightlife, Restaurants]   \n",
       "28                                [Chinese, Restaurants]   \n",
       "29                                [Chinese, Restaurants]   \n",
       "...                                                  ...   \n",
       "37908  [Local Services, Data Recovery, Mobile Phone R...   \n",
       "37909                         [Steakhouses, Restaurants]   \n",
       "37910        [Shopping, Home & Garden, Furniture Stores]   \n",
       "37911        [American (New), Comfort Food, Restaurants]   \n",
       "37912            [Arts & Entertainment, Performing Arts]   \n",
       "37913                          [Tapas Bars, Restaurants]   \n",
       "37914                               [Pizza, Restaurants]   \n",
       "37915  [Food, Tea Rooms, Coffee & Tea, Asian Fusion, ...   \n",
       "37916   [Used, Vintage & Consignment, Fashion, Shopping]   \n",
       "37917                               [Cafes, Restaurants]   \n",
       "37918                            [Movers, Home Services]   \n",
       "37919                                   [Bakeries, Food]   \n",
       "37920                          [Handyman, Home Services]   \n",
       "37921                                 [Food, Shaved Ice]   \n",
       "37922                             [Food, Specialty Food]   \n",
       "37923                          [Sushi Bars, Restaurants]   \n",
       "37924                          [Vietnamese, Restaurants]   \n",
       "37925               [Food, Desserts, Cupcakes, Bakeries]   \n",
       "37926                            [Filipino, Restaurants]   \n",
       "37927                     [Active Life, Amusement Parks]   \n",
       "37928                             [Burgers, Restaurants]   \n",
       "37929                       [Chicken Wings, Restaurants]   \n",
       "37930                      [American (New), Restaurants]   \n",
       "37931  [Food, Juice Bars & Smoothies, American (New),...   \n",
       "37932  [Bars, Turkish, Mediterranean, Nightlife, Loun...   \n",
       "37933            [Bars, Hookah Bars, Nightlife, Lounges]   \n",
       "37934  [Active Life, Barre Classes, Pilates, Fitness ...   \n",
       "37935                        [Yelp Events, Local Flavor]   \n",
       "37936              [Kosher, Italian, Pizza, Restaurants]   \n",
       "37937       [Food, Ethnic Food, Grocery, Specialty Food]   \n",
       "\n",
       "                                              attributes  \n",
       "0                          {'By Appointment Only': True}  \n",
       "1      {'Take-out': True, 'Good For': {'dessert': Fal...  \n",
       "2      {'Take-out': True, 'Good For': {'dessert': Fal...  \n",
       "3      {'Take-out': True, 'Wi-Fi': 'free', 'Takes Res...  \n",
       "4      {'Take-out': True, 'Has TV': False, 'Outdoor S...  \n",
       "5                                                     {}  \n",
       "6                                                     {}  \n",
       "7                                      {'Wi-Fi': 'free'}  \n",
       "8                                                     {}  \n",
       "9      {'Alcohol': 'full_bar', 'Noise Level': 'loud',...  \n",
       "10     {'Accepts Credit Cards': True, 'Wi-Fi': 'free'...  \n",
       "11                               {'Good for Kids': True}  \n",
       "12     {'Take-out': True, 'Good For': {'dessert': Fal...  \n",
       "13     {'Take-out': True, 'Wi-Fi': 'no', 'Good For': ...  \n",
       "14     {'Take-out': True, 'Caters': True, 'Attire': '...  \n",
       "15     {'Take-out': True, 'Good For': {'dessert': Fal...  \n",
       "16     {'Take-out': True, 'Wi-Fi': 'no', 'Good For': ...  \n",
       "17                               {'Good for Kids': True}  \n",
       "18      {'Accepts Credit Cards': True, 'Price Range': 2}  \n",
       "19     {'Accepts Credit Cards': True, 'Wi-Fi': 'free'...  \n",
       "20     {'By Appointment Only': False, 'Good for Kids'...  \n",
       "21     {'Take-out': True, 'Takes Reservations': False...  \n",
       "22     {'Parking': {'garage': False, 'street': False,...  \n",
       "23     {'Parking': {'garage': False, 'street': True, ...  \n",
       "24     {'Parking': {'garage': False, 'street': True, ...  \n",
       "25     {'Wi-Fi': 'free', 'Price Range': 1, 'Outdoor S...  \n",
       "26     {'Take-out': True, 'Wi-Fi': 'free', 'Good For'...  \n",
       "27     {'Good For': {'dessert': False, 'latenight': F...  \n",
       "28     {'Take-out': True, 'Good For': {'dessert': Fal...  \n",
       "29     {'Take-out': True, 'Takes Reservations': False...  \n",
       "...                                                  ...  \n",
       "37908                     {'Accepts Credit Cards': True}  \n",
       "37909  {'Take-out': False, 'Good For': {'dessert': Fa...  \n",
       "37910   {'Accepts Credit Cards': True, 'Price Range': 2}  \n",
       "37911  {'Take-out': True, 'Good For': {'dessert': Fal...  \n",
       "37912                                                 {}  \n",
       "37913  {'Has TV': False, 'Good For Groups': True, 'Ou...  \n",
       "37914  {'Take-out': True, 'Good For': {'dessert': Fal...  \n",
       "37915  {'Take-out': True, 'Wi-Fi': 'free', 'Good For'...  \n",
       "37916  {'Parking': {'garage': False, 'street': False,...  \n",
       "37917  {'Take-out': True, 'Wi-Fi': 'free', 'Good For'...  \n",
       "37918                     {'Accepts Credit Cards': True}  \n",
       "37919  {'Parking': {'garage': False, 'street': False,...  \n",
       "37920                     {'Accepts Credit Cards': True}  \n",
       "37921  {'Parking': {'garage': False, 'street': False,...  \n",
       "37922  {'Parking': {'garage': False, 'street': False,...  \n",
       "37923  {'Take-out': True, 'Good For': {'dessert': Fal...  \n",
       "37924  {'Take-out': True, 'Wi-Fi': 'no', 'Good For': ...  \n",
       "37925   {'Accepts Credit Cards': True, 'Price Range': 2}  \n",
       "37926  {'Take-out': True, 'Good For': {'dessert': Fal...  \n",
       "37927                            {'Good for Kids': True}  \n",
       "37928  {'Take-out': False, 'Wi-Fi': 'free', 'Drive-Th...  \n",
       "37929  {'Take-out': True, 'Wi-Fi': 'free', 'Good For'...  \n",
       "37930  {'Take-out': True, 'Good For': {'dessert': Fal...  \n",
       "37931  {'Take-out': True, 'Wi-Fi': 'free', 'Good For'...  \n",
       "37932  {'Alcohol': 'full_bar', 'Noise Level': 'quiet'...  \n",
       "37933  {'Alcohol': 'none', 'Good For Dancing': True, ...  \n",
       "37934                                                 {}  \n",
       "37935                           {'Good for Kids': False}  \n",
       "37936  {'Take-out': True, 'Wi-Fi': 'no', 'Good For': ...  \n",
       "37937  {'Parking': {'garage': False, 'street': False,...  \n",
       "\n",
       "[37938 rows x 5 columns]"
      ]
     },
     "execution_count": 181,
     "metadata": {},
     "output_type": "execute_result"
    }
   ],
   "source": [
    "df_X[['city','latitude', 'longitude','categories','attributes']]"
   ]
  },
  {
   "cell_type": "code",
   "execution_count": 137,
   "metadata": {
    "ExecuteTime": {
     "end_time": "2018-09-20T06:06:44.436404Z",
     "start_time": "2018-09-20T06:06:29.639120Z"
    }
   },
   "outputs": [
    {
     "data": {
      "text/plain": [
       "FeatureUnion(n_jobs=1,\n",
       "       transformer_list=[('city', Pipeline(memory=None,\n",
       "     steps=[('city_est', EstimatorTransformer(estimator=CityEstimator()))])), ('nbr', Pipeline(memory=None,\n",
       "     steps=[('cst', ColumnSelectTransformer(col_names=['latitude', 'longitude'])), ('knn', EstimatorTransformer(estimator=KNeighborsRegressor(a...rter()), ('f_align', features_align()), ('myEst', EstimatorTransformer(estimator=myEstimator()))]))],\n",
       "       transformer_weights=None)"
      ]
     },
     "execution_count": 137,
     "metadata": {},
     "output_type": "execute_result"
    }
   ],
   "source": [
    "union.fit(df_X, df_y)\n"
   ]
  },
  {
   "cell_type": "code",
   "execution_count": 138,
   "metadata": {
    "ExecuteTime": {
     "end_time": "2018-09-20T06:06:46.785926Z",
     "start_time": "2018-09-20T06:06:46.463677Z"
    }
   },
   "outputs": [
    {
     "data": {
      "text/plain": [
       "array([[3.67029039e+00, 3.90000000e+00, 3.25508908e+00, 7.68338470e+09],\n",
       "       [3.75000000e+00, 3.41500000e+00, 3.06575054e+00, 7.68338470e+09],\n",
       "       [3.75000000e+00, 3.55500000e+00, 3.21467001e+00, 7.68338470e+09],\n",
       "       [3.75000000e+00, 3.60500000e+00, 3.30622736e+00, 7.68338470e+09],\n",
       "       [3.75000000e+00, 3.54500000e+00, 3.30336145e+00, 7.68338470e+09],\n",
       "       [3.10000000e+00, 3.38000000e+00, 3.45519665e+00, 7.68338470e+09],\n",
       "       [3.10000000e+00, 3.49500000e+00, 4.10312954e+00, 7.68338470e+09],\n",
       "       [3.10000000e+00, 3.47500000e+00, 3.97397559e+00, 7.68338470e+09],\n",
       "       [3.10000000e+00, 3.48000000e+00, 4.10711629e+00, 7.68338470e+09],\n",
       "       [3.10000000e+00, 3.43500000e+00, 3.40158135e+00, 7.68338470e+09]])"
      ]
     },
     "execution_count": 138,
     "metadata": {},
     "output_type": "execute_result"
    }
   ],
   "source": [
    "trans_data = union.transform(df_X[:10])\n",
    "trans_data"
   ]
  },
  {
   "cell_type": "code",
   "execution_count": 134,
   "metadata": {
    "ExecuteTime": {
     "end_time": "2018-09-20T05:55:36.974740Z",
     "start_time": "2018-09-20T05:55:36.969820Z"
    }
   },
   "outputs": [
    {
     "data": {
      "text/plain": [
       "(10, 4)"
      ]
     },
     "execution_count": 134,
     "metadata": {},
     "output_type": "execute_result"
    }
   ],
   "source": [
    "trans_data.shape"
   ]
  },
  {
   "cell_type": "code",
   "execution_count": 113,
   "metadata": {
    "ExecuteTime": {
     "end_time": "2018-09-20T05:12:44.975144Z",
     "start_time": "2018-09-20T05:12:44.971700Z"
    }
   },
   "outputs": [],
   "source": [
    "assert trans_data.shape == (10, 4)"
   ]
  },
  {
   "cell_type": "markdown",
   "metadata": {},
   "source": [
    "Finally, use a pipeline to combine the feature union with a linear regression (or another model) to weight the predictions."
   ]
  },
  {
   "cell_type": "code",
   "execution_count": 119,
   "metadata": {
    "ExecuteTime": {
     "end_time": "2018-09-20T05:17:52.175294Z",
     "start_time": "2018-09-20T05:17:45.238462Z"
    }
   },
   "outputs": [
    {
     "data": {
      "text/plain": [
       "array([3.8970484 , 3.67507689, 3.72119021, ..., 3.68373204, 4.01050015,\n",
       "       3.71615281])"
      ]
     },
     "execution_count": 119,
     "metadata": {},
     "output_type": "execute_result"
    }
   ],
   "source": [
    "att_pipe_mod.predict(df_test_X)"
   ]
  },
  {
   "cell_type": "code",
   "execution_count": 120,
   "metadata": {
    "ExecuteTime": {
     "end_time": "2018-09-20T05:17:55.880378Z",
     "start_time": "2018-09-20T05:17:55.728209Z"
    }
   },
   "outputs": [
    {
     "data": {
      "text/plain": [
       "array([7.6833847e+09, 7.6833847e+09, 7.6833847e+09, 7.6833847e+09,\n",
       "       7.6833847e+09, 7.6833847e+09, 7.6833847e+09, 7.6833847e+09,\n",
       "       7.6833847e+09, 7.6833847e+09])"
      ]
     },
     "execution_count": 120,
     "metadata": {},
     "output_type": "execute_result"
    }
   ],
   "source": [
    "att_pipe_mod.predict(df_test_X[:10])"
   ]
  },
  {
   "cell_type": "code",
   "execution_count": 126,
   "metadata": {
    "ExecuteTime": {
     "end_time": "2018-09-20T05:37:35.838283Z",
     "start_time": "2018-09-20T05:37:35.833147Z"
    }
   },
   "outputs": [
    {
     "data": {
      "text/plain": [
       "Pipeline(memory=None,\n",
       "     steps=[('att_conv', Att_converter()), ('f_align', features_align()), ('myEst', myEstimator())])"
      ]
     },
     "execution_count": 126,
     "metadata": {},
     "output_type": "execute_result"
    }
   ],
   "source": [
    "att_pipe_mod"
   ]
  },
  {
   "cell_type": "code",
   "execution_count": 132,
   "metadata": {
    "ExecuteTime": {
     "end_time": "2018-09-20T05:54:48.245536Z",
     "start_time": "2018-09-20T05:54:48.229217Z"
    }
   },
   "outputs": [],
   "source": [
    "total_pipeline = Pipeline([\n",
    "  ('features', FeatureUnion([\n",
    "        ('city',Pipeline([\n",
    "            ('city_est',EstimatorTransformer(city_est))\n",
    "        ])\n",
    "        ),\n",
    "        ('nbr',Pipeline([\n",
    "            ('cst',ColumnSelectTransformer(['latitude', 'longitude'])),\n",
    "            ('knn',EstimatorTransformer(KNeighborsRegressor(n_neighbors=100)))\n",
    "        ])\n",
    "        ),\n",
    "        ('cat',Pipeline([\n",
    "            ('cst',ColumnSelectTransformer(['categories'])),\n",
    "            ('DictEn',DictEncoder()),\n",
    "            ('DictVec',DictVectorizer(sparse=False)),\n",
    "            ('TfidTransform',text.TfidfTransformer()),\n",
    "            ('Ridge', EstimatorTransformer(linear_model.Ridge(alpha = 1)))\n",
    "        ]),\n",
    "        ),\n",
    "        ('att',Pipeline([\n",
    "            ('att_conv',Att_converter()),\n",
    "            ('f_align',features_align()),\n",
    "            ('myEst',EstimatorTransformer(myEstimator()))\n",
    "        ]),\n",
    "        )\n",
    "        ])),\n",
    "  ('final classifier', linear_model.LinearRegression())\n",
    "])"
   ]
  },
  {
   "cell_type": "code",
   "execution_count": 139,
   "metadata": {
    "ExecuteTime": {
     "end_time": "2018-09-20T06:07:19.661137Z",
     "start_time": "2018-09-20T06:07:19.657708Z"
    }
   },
   "outputs": [],
   "source": [
    "total_pipeline = Pipeline([\n",
    "    ('features',union),\n",
    "    ('final_clf',linear_model.LinearRegression())\n",
    "])\n",
    "    "
   ]
  },
  {
   "cell_type": "code",
   "execution_count": null,
   "metadata": {},
   "outputs": [],
   "source": []
  },
  {
   "cell_type": "code",
   "execution_count": 168,
   "metadata": {
    "ExecuteTime": {
     "end_time": "2018-09-20T06:28:57.097648Z",
     "start_time": "2018-09-20T06:28:57.092638Z"
    }
   },
   "outputs": [],
   "source": [
    "total_pipeline = Pipeline([\n",
    "    ('features',union),\n",
    "    ('svr',SVR())\n",
    "])\n",
    "    "
   ]
  },
  {
   "cell_type": "code",
   "execution_count": null,
   "metadata": {},
   "outputs": [],
   "source": [
    "cat_pipe = Pipeline([('cst',ColumnSelectTransformer(['categories'])),\n",
    "                     ('DictEn',DictEncoder()),\n",
    "                     ('DictVec',DictVectorizer(sparse=False)),\n",
    "                     ('Ridge', linear_model.Ridge(alpha = 0.1))\n",
    "                     \n",
    "        # ColumnSelectTransformer\n",
    "        # KNeighborsRegressor\n",
    "    ])\n",
    "\n",
    "param_grid=[\n",
    "    {'Ridge':[linear_model.Ridge()],\n",
    "    'Ridge__alpha':[1.0],\n",
    "    }\n",
    "]\n",
    "grid_search_cat = GridSearchCV(cat_pipe, param_grid=param_grid, cv=10)"
   ]
  },
  {
   "cell_type": "code",
   "execution_count": 177,
   "metadata": {
    "ExecuteTime": {
     "end_time": "2018-09-20T17:52:57.032342Z",
     "start_time": "2018-09-20T17:52:57.028355Z"
    }
   },
   "outputs": [],
   "source": [
    "param_grid_final=[\n",
    "    {'svr':[SVR()],\n",
    "    #\"svr__C\": [1e0, 1e1, 1e2]#,\n",
    "    \"svr__gamma\": np.logspace(-2, 2)\n",
    "    }\n",
    "]\n",
    "grid_search_final = GridSearchCV(total_pipeline, param_grid=param_grid_final, cv=10)\n"
   ]
  },
  {
   "cell_type": "code",
   "execution_count": 179,
   "metadata": {
    "ExecuteTime": {
     "end_time": "2018-09-20T18:00:04.892849Z",
     "start_time": "2018-09-20T18:00:04.890126Z"
    }
   },
   "outputs": [],
   "source": [
    "#grid_search_final.fit(df_X,df_y)"
   ]
  },
  {
   "cell_type": "code",
   "execution_count": 175,
   "metadata": {
    "ExecuteTime": {
     "end_time": "2018-09-20T17:49:15.341182Z",
     "start_time": "2018-09-20T17:49:15.334099Z"
    }
   },
   "outputs": [
    {
     "name": "stdout",
     "output_type": "stream",
     "text": [
      "Best estimator found:\n",
      "Pipeline(memory=None,\n",
      "     steps=[('features', FeatureUnion(n_jobs=1,\n",
      "       transformer_list=[('city', Pipeline(memory=None,\n",
      "     steps=[('city_est', EstimatorTransformer(estimator=CityEstimator()))])), ('nbr', Pipeline(memory=None,\n",
      "     steps=[('cst', ColumnSelectTransformer(col_names=['latitude', 'longitude'])), ('knn', Es... epsilon=0.1, gamma='auto',\n",
      "  kernel='rbf', max_iter=-1, shrinking=True, tol=0.001, verbose=False))])\n",
      "Best score:\n",
      "0.053130044836827914\n",
      "Best parameters found:\n",
      "{'svr': SVR(C=10.0, cache_size=200, coef0=0.0, degree=3, epsilon=0.1, gamma='auto',\n",
      "  kernel='rbf', max_iter=-1, shrinking=True, tol=0.001, verbose=False), 'svr__C': 10.0}\n"
     ]
    }
   ],
   "source": [
    "print(\"Best estimator found:\")\n",
    "print(grid_search_final.best_estimator_)\n",
    "\n",
    "print(\"Best score:\")\n",
    "print(grid_search_final.best_score_)\n",
    "\n",
    "print(\"Best parameters found:\")\n",
    "print(grid_search_final.best_params_)"
   ]
  },
  {
   "cell_type": "code",
   "execution_count": 156,
   "metadata": {
    "ExecuteTime": {
     "end_time": "2018-09-20T06:15:35.850641Z",
     "start_time": "2018-09-20T06:14:11.205499Z"
    }
   },
   "outputs": [
    {
     "data": {
      "text/plain": [
       "Pipeline(memory=None,\n",
       "     steps=[('features', FeatureUnion(n_jobs=1,\n",
       "       transformer_list=[('city', Pipeline(memory=None,\n",
       "     steps=[('city_est', EstimatorTransformer(estimator=CityEstimator()))])), ('nbr', Pipeline(memory=None,\n",
       "     steps=[('cst', ColumnSelectTransformer(col_names=['latitude', 'longitude'])), ('knn', Es... epsilon=0.1, gamma='auto',\n",
       "  kernel='rbf', max_iter=-1, shrinking=True, tol=0.001, verbose=False))])"
      ]
     },
     "execution_count": 156,
     "metadata": {},
     "output_type": "execute_result"
    }
   ],
   "source": [
    "total_pipeline.fit(df_X,df_y)"
   ]
  },
  {
   "cell_type": "code",
   "execution_count": 176,
   "metadata": {
    "ExecuteTime": {
     "end_time": "2018-09-20T17:49:34.991413Z",
     "start_time": "2018-09-20T17:49:31.684229Z"
    }
   },
   "outputs": [
    {
     "name": "stdout",
     "output_type": "stream",
     "text": [
      "==================\n",
      "Your score:  0.8747831016355098\n",
      "==================\n"
     ]
    }
   ],
   "source": [
    "grader.score('ml__full_model', grid_search_final.predict)  # Edit to appropriate name"
   ]
  },
  {
   "cell_type": "markdown",
   "metadata": {},
   "source": [
    "*Extension:* By combining our models with a linear model, we will be unable to notice any correlation between features.  We don't expect all attributes to have the same effect on all venues.  For example, \"Ambiance: divey\" might be a bad indicator for a restaurant but a good one for a bar.  Nonlinear models can pick up on this interaction.  Replace the linear model combining the predictions with a nonlinear one like [`RandomForestRegressor`](http://scikit-learn.org/stable/modules/generated/sklearn.ensemble.RandomForestRegressor.html#sklearn.ensemble.RandomForestRegressor).  Better yet, use the nonlinear model to fit the residuals of the linear model.\n",
    "\n",
    "The score for this question is just a ratio of the score of your model to the score of a reference solution.  Can you beat the reference solution and get a score greater than 1.0?"
   ]
  },
  {
   "cell_type": "markdown",
   "metadata": {},
   "source": [
    "*Copyright &copy; 2016 The Data Incubator.  All rights reserved.*"
   ]
  }
 ],
 "metadata": {
  "kernelspec": {
   "display_name": "Python 3",
   "language": "python",
   "name": "python3"
  },
  "language_info": {
   "codemirror_mode": {
    "name": "ipython",
    "version": 3
   },
   "file_extension": ".py",
   "mimetype": "text/x-python",
   "name": "python",
   "nbconvert_exporter": "python",
   "pygments_lexer": "ipython3",
   "version": "3.6.7"
  },
  "nbclean": true,
  "toc": {
   "base_numbering": 1,
   "nav_menu": {
    "height": "130px",
    "width": "254px"
   },
   "number_sections": true,
   "sideBar": true,
   "skip_h1_title": false,
   "title_cell": "Table of Contents",
   "title_sidebar": "Contents",
   "toc_cell": false,
   "toc_position": {},
   "toc_section_display": "block",
   "toc_window_display": false
  }
 },
 "nbformat": 4,
 "nbformat_minor": 1
}
